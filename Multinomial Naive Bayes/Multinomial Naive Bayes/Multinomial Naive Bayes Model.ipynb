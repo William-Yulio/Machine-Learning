{
  "nbformat": 4,
  "nbformat_minor": 0,
  "metadata": {
    "colab": {
      "name": "Quiz ML 3 _ MNB.ipynb",
      "provenance": [],
      "toc_visible": true
    },
    "kernelspec": {
      "name": "python3",
      "display_name": "Python 3"
    },
    "language_info": {
      "name": "python"
    }
  },
  "cells": [
    {
      "cell_type": "markdown",
      "metadata": {
        "id": "NBYZGT3ygHgf"
      },
      "source": [
        "## **Quiz ML No. 3**\n",
        "\n",
        "---\n",
        "\n",
        "### MultinomialNB\n",
        "\n",
        "Nama  : William Yulio\n",
        "\n",
        "NIM   : 2301869840\n",
        "\n",
        "Kelas : LD01"
      ]
    },
    {
      "cell_type": "markdown",
      "metadata": {
        "id": "ALhvC1algqTA"
      },
      "source": [
        "### Menghubungkan phyton dengan Drive agar bisa mengakses dataset spam dan ham"
      ]
    },
    {
      "cell_type": "code",
      "metadata": {
        "colab": {
          "base_uri": "https://localhost:8080/"
        },
        "id": "ZrWCXD1PeBFW",
        "outputId": "070f97ec-a76d-4086-9bee-86fc150ad045"
      },
      "source": [
        "from google.colab import drive\n",
        "drive.mount('/content/drive')"
      ],
      "execution_count": 1,
      "outputs": [
        {
          "output_type": "stream",
          "text": [
            "Drive already mounted at /content/drive; to attempt to forcibly remount, call drive.mount(\"/content/drive\", force_remount=True).\n"
          ],
          "name": "stdout"
        }
      ]
    },
    {
      "cell_type": "markdown",
      "metadata": {
        "id": "4YxerB-8gzCs"
      },
      "source": [
        "### Melakukan instalasi untuk dapat menggunakan library nltk"
      ]
    },
    {
      "cell_type": "code",
      "metadata": {
        "id": "SulwSxRZbqD6"
      },
      "source": [
        "#!pip install nltk"
      ],
      "execution_count": 2,
      "outputs": []
    },
    {
      "cell_type": "markdown",
      "metadata": {
        "id": "K6u4bcabPxyv"
      },
      "source": [
        "### Import Library yang akan digunakan"
      ]
    },
    {
      "cell_type": "code",
      "metadata": {
        "colab": {
          "base_uri": "https://localhost:8080/"
        },
        "id": "6JWy5d3rPP6K",
        "outputId": "9bc0bdee-fdad-4d12-9e18-3e47c2208411"
      },
      "source": [
        "from sklearn.feature_extraction.text import CountVectorizer\n",
        "from nltk.corpus import names\n",
        "from nltk.stem import WordNetLemmatizer\n",
        "import glob\n",
        "import os\n",
        "import numpy as np\n",
        "from google.colab import drive\n",
        "import nltk\n",
        "from sklearn.model_selection import train_test_split\n",
        "from sklearn.naive_bayes import MultinomialNB\n",
        "nltk.download('names')\n",
        "nltk.download('wordnet')"
      ],
      "execution_count": 3,
      "outputs": [
        {
          "output_type": "stream",
          "text": [
            "[nltk_data] Downloading package names to /root/nltk_data...\n",
            "[nltk_data]   Package names is already up-to-date!\n",
            "[nltk_data] Downloading package wordnet to /root/nltk_data...\n",
            "[nltk_data]   Package wordnet is already up-to-date!\n"
          ],
          "name": "stdout"
        },
        {
          "output_type": "execute_result",
          "data": {
            "text/plain": [
              "True"
            ]
          },
          "metadata": {
            "tags": []
          },
          "execution_count": 3
        }
      ]
    },
    {
      "cell_type": "markdown",
      "metadata": {
        "id": "3foGeJJvP2h2"
      },
      "source": [
        "### Memasukkan dataset yang sudah kita masukkan kedalam drive"
      ]
    },
    {
      "cell_type": "code",
      "metadata": {
        "colab": {
          "base_uri": "https://localhost:8080/"
        },
        "id": "Nc9B1I6lP2B_",
        "outputId": "41f5c093-e029-4444-f5f7-99bffe9befa8"
      },
      "source": [
        "file_path = '/content/drive/MyDrive/myham/0001.1999-12-10.farmer.ham.txt'\n",
        "with open(file_path, 'r') as infile:\n",
        "    ham_sample = infile.read()\n",
        "print(ham_sample)\n",
        "\n",
        "file_path = '/content/drive/MyDrive/myspam/0006.2003-12-18.GP.spam.txt'\n",
        "with open(file_path, 'r') as infile:\n",
        "    spam_sample = infile.read()\n",
        "print(spam_sample)\n",
        "\n",
        "# Mengakses data kedalam drive untuk mencari dataset sesuai dengan yang sudah kita tuju pada url ini\n",
        "# ini kita lakukan untuk mengecek apakah file sudah bisa diakses atau tidak"
      ],
      "execution_count": 4,
      "outputs": [
        {
          "output_type": "stream",
          "text": [
            "Subject: christmas tree farm pictures\n",
            "\n",
            "Subject: dobmeos with hgh my energy level has gone up ! stukm\n",
            "introducing\n",
            "doctor - formulated\n",
            "hgh\n",
            "human growth hormone - also called hgh\n",
            "is referred to in medical science as the master hormone . it is very plentiful\n",
            "when we are young , but near the age of twenty - one our bodies begin to produce\n",
            "less of it . by the time we are forty nearly everyone is deficient in hgh ,\n",
            "and at eighty our production has normally diminished at least 90 - 95 % .\n",
            "advantages of hgh :\n",
            "- increased muscle strength\n",
            "- loss in body fat\n",
            "- increased bone density\n",
            "- lower blood pressure\n",
            "- quickens wound healing\n",
            "- reduces cellulite\n",
            "- improved vision\n",
            "- wrinkle disappearance\n",
            "- increased skin thickness texture\n",
            "- increased energy levels\n",
            "- improved sleep and emotional stability\n",
            "- improved memory and mental alertness\n",
            "- increased sexual potency\n",
            "- resistance to common illness\n",
            "- strengthened heart muscle\n",
            "- controlled cholesterol\n",
            "- controlled mood swings\n",
            "- new hair growth and color restore\n",
            "read\n",
            "more at this website\n",
            "unsubscribe\n",
            "\n"
          ],
          "name": "stdout"
        }
      ]
    },
    {
      "cell_type": "markdown",
      "metadata": {
        "id": "ZMZ9fgHkaK-N"
      },
      "source": [
        "### Menghilangkan Stop Words"
      ]
    },
    {
      "cell_type": "code",
      "metadata": {
        "id": "Mg5hwxj6aGEG"
      },
      "source": [
        "cv = CountVectorizer(stop_words = \"english\", max_features=500)\n",
        "\n",
        "# Fungsi CountVectorizer() untuk dapat menghilangkan kata semacam i, you, the, a, this, is, dll "
      ],
      "execution_count": 5,
      "outputs": []
    },
    {
      "cell_type": "markdown",
      "metadata": {
        "id": "0uGhjGT5aYwL"
      },
      "source": [
        "### Menyimpan email, text data, dan labels"
      ]
    },
    {
      "cell_type": "code",
      "metadata": {
        "id": "dyTmhiKXaOyQ"
      },
      "source": [
        "emails, labels = [], []\n",
        "file_path = '/content/drive/MyDrive/myspam'\n",
        "for filename in glob.glob(os.path.join(file_path, '*.txt')):\n",
        "    with open(filename, 'r', encoding = \"ISO-8859-1\") as infile:\n",
        "        emails.append(infile.read())\n",
        "        labels.append(1)\n",
        "\n",
        "file_path = '/content/drive/MyDrive/myham'\n",
        "for filename in glob.glob(os.path.join(file_path, '*.txt')):\n",
        "    with open(filename, 'r', encoding = \"ISO-8859-1\") as infile:\n",
        "        emails.append(infile.read())\n",
        "        labels.append(0)\n",
        "# Memasukkan data sesuai dengan email dan label, sehingga dataset sudah kita pisahkan diawal dan disimpan kedalam variabel penampung\n",
        "# Import glob dan os digunakan untuk mencari semua file .txt  "
      ],
      "execution_count": 6,
      "outputs": []
    },
    {
      "cell_type": "markdown",
      "metadata": {
        "id": "Z-5ZfKthbFt1"
      },
      "source": [
        "### Melakukan text cleaning (Lemmatisasi)"
      ]
    },
    {
      "cell_type": "code",
      "metadata": {
        "id": "h0hVELUebPyg"
      },
      "source": [
        "def letters_only(astr):\n",
        "    return astr.isalpha()\n",
        "\n",
        "all_names = set(names.words())\n",
        "lemmatizer = WordNetLemmatizer()\n",
        "\n",
        "def clean_text(docs):\n",
        "    cleaned_docs = []\n",
        "    for doc in docs:\n",
        "        cleaned_docs.append(' '.join([lemmatizer.lemmatize(word.lower()) for word in doc.split() if letters_only(word) and word not in all_names]))\n",
        "    return cleaned_docs\n",
        "\n",
        "# Melakukan proses lemmatisasi untuk mendapatkan bentuk kata yang paling dasar berdasarkan dari kata - kata yang ada didalam dataset\n",
        "# Dan juga menghilangkan punctual dan number value"
      ],
      "execution_count": 7,
      "outputs": []
    },
    {
      "cell_type": "markdown",
      "metadata": {
        "id": "sUp8fcLMdMcg"
      },
      "source": [
        "### Membuat variabel global yang akan digunakan kedalam kalkulasi"
      ]
    },
    {
      "cell_type": "code",
      "metadata": {
        "id": "r8xw6RZHdFE5"
      },
      "source": [
        "cleaned_emails = clean_text(emails)\n",
        "term_docs = cv.fit_transform(cleaned_emails)\n",
        "feature_mapping = cv.vocabulary\n",
        "feature_names = cv.get_feature_names()\n",
        "\n",
        "# cleaned emails berisi email yang sudah di lematisasi\n",
        "# term_docs digunakan untuk menampung dokumen matrix(yang berisi sekumpulan data) kedalam bentuk dokumen matrix yang menunjukkan frequency sparse vector dari dokumen dan email tersebut\n",
        " "
      ],
      "execution_count": 8,
      "outputs": []
    },
    {
      "cell_type": "markdown",
      "metadata": {
        "id": "uOIMBy2Tdm7f"
      },
      "source": [
        "### Kalkulasi untuk membuat perhitungan untuk membangun spam filtering model"
      ]
    },
    {
      "cell_type": "code",
      "metadata": {
        "id": "N-3JcCtFdj-6"
      },
      "source": [
        "def get_label_index(labels):\n",
        "    from collections import defaultdict\n",
        "    label_index = defaultdict(list)\n",
        "    for index, label in enumerate(labels):\n",
        "        label_index[label].append(index)\n",
        "    return label_index\n",
        "\n",
        "# Disini kita akan mendapatkan grup label dengan menggunakan label_index\n",
        "\n",
        "def get_prior(label_index):\n",
        "    prior = {label: len(index) for label, index in label_index.items()}\n",
        "    total_count = sum(prior.values())\n",
        "    for label in prior:\n",
        "        prior[label] /= float(total_count)\n",
        "    return prior\n",
        "\n",
        "# Setelah mendapatkan label_index, kita akan melakukan kalkulasi untuk mendapatkan prior\n",
        "# yaitu probabilitas distribusi untuk melihat probabilitas dari obejct yang belum pernah kita obeservasi"
      ],
      "execution_count": 9,
      "outputs": []
    },
    {
      "cell_type": "code",
      "metadata": {
        "id": "WnST8_f7d6uW"
      },
      "source": [
        "def get_likelihood(term_document_matrix, label_index, smoothing=0):\n",
        "    likelihood = {}\n",
        "    for label, index in label_index.items():\n",
        "        likelihood[label] = term_document_matrix[index, :].sum(axis=0) + smoothing\n",
        "        likelihood[label] = np.asarray(likelihood[label])[0]\n",
        "        total_count = likelihood[label].sum()\n",
        "        likelihood[label] = likelihood[label] / float(total_count)\n",
        "    return likelihood\n",
        "# menghitung fungsi likelihood untuk mendapatkan probabilitas kemunculan karaktersitik tertentu"
      ],
      "execution_count": 10,
      "outputs": []
    },
    {
      "cell_type": "markdown",
      "metadata": {
        "id": "aJqjZD0weEXL"
      },
      "source": [
        "### Menghitung posterior untuk melakukan testing data"
      ]
    },
    {
      "cell_type": "code",
      "metadata": {
        "id": "qFWXHnERedoR"
      },
      "source": [
        "def get_posterior(term_document_matrix, prior, likelihood):\n",
        "    num_docs = term_document_matrix.shape[0]\n",
        "    posteriors = []\n",
        "    for i in range(num_docs):\n",
        "        posterior = {key: np.log(prior_label) for key, prior_label in prior.items()}\n",
        "        for label, likelihood_label in likelihood.items():\n",
        "            term_document_vector = term_document_matrix.getrow(i)\n",
        "            counts = term_document_vector.data\n",
        "            indices = term_document_vector.indices\n",
        "            for count, index in zip(counts, indices):\n",
        "                posterior[label] += np.log(likelihood_label[index]) * count\n",
        "        min_log_posterior = min(posterior.values())\n",
        "        for label in posterior:\n",
        "            try:\n",
        "                posterior[label] = np.exp(posterior[label] - min_log_posterior)\n",
        "            except:\n",
        "                posterior[label] = float('inf')\n",
        "        sum_posterior = sum(posterior.values())\n",
        "        for label in posterior:\n",
        "            if posterior[label] == float('inf'):\n",
        "                posterior[label] = 1.0\n",
        "            else:\n",
        "                posterior[label] /= sum_posterior\n",
        "        posteriors.append(posterior.copy())\n",
        "    return posteriors\n",
        "\n",
        "# Melakukan kalkulasi dari variabel yang sudah dicari yaitu variabel likelihood dan prior sesuai dengan rumus naive bayes"
      ],
      "execution_count": 11,
      "outputs": []
    },
    {
      "cell_type": "markdown",
      "metadata": {
        "id": "HnsSiQRHe0bE"
      },
      "source": [
        "### Proses Smooting"
      ]
    },
    {
      "cell_type": "code",
      "metadata": {
        "id": "dofMzvtUeriy"
      },
      "source": [
        "label_index = get_label_index(labels)\n",
        "prior = get_prior(label_index)\n",
        "smoothing = 1\n",
        "likelihood = get_likelihood(term_docs, label_index, smoothing)\n",
        "\n",
        "# Smooting bisa tidak dipakai kalau tidak ingin dengan mengubah variabel smoothing menjadi 0\n",
        "# Memanggil semua fungsi untuk dijalankan "
      ],
      "execution_count": 12,
      "outputs": []
    },
    {
      "cell_type": "markdown",
      "metadata": {
        "id": "Hym55V1XgJe4"
      },
      "source": [
        "### Melakukan Split Dataset"
      ]
    },
    {
      "cell_type": "code",
      "metadata": {
        "id": "j58RoI-ugJQq"
      },
      "source": [
        "X_train, X_test, Y_train, Y_test = train_test_split(cleaned_emails, labels, test_size=0.20, random_state=42)\n",
        "\n",
        "# Kita akan melakukan pemisahan dataset utuh kedalam variabel untuk melakukan testing dan juga training\n",
        "# Dimana data yang akan digunakan untuk test sebesar 20% dari total data utuhnya dan 80% lainnya dimasukkan kedalam variabel training"
      ],
      "execution_count": 13,
      "outputs": []
    },
    {
      "cell_type": "markdown",
      "metadata": {
        "id": "OReQla6pgk6M"
      },
      "source": [
        "### Membuat NB Model"
      ]
    },
    {
      "cell_type": "code",
      "metadata": {
        "colab": {
          "base_uri": "https://localhost:8080/"
        },
        "id": "mD1kpsjbgkwX",
        "outputId": "d54d36a3-e09c-48ee-ca54-15389d7c9126"
      },
      "source": [
        "len(X_train), len(Y_train)\n",
        "len(X_test), len(Y_test)\n",
        "\n",
        "term_docs_train = cv.fit_transform(X_train)\n",
        "label_index = get_label_index(Y_train)\n",
        "prior = get_prior(label_index)\n",
        "likelihood = get_likelihood(term_docs_train, label_index, smoothing)\n",
        "\n",
        "term_docs_test = cv.transform(X_test)\n",
        "posterior = get_posterior(term_docs_test, prior, likelihood)\n",
        "\n",
        "correct = 0.0\n",
        "for pred, actual in zip(posterior, Y_test):\n",
        "    if actual == 1:\n",
        "        if pred[1] >= 0.5:\n",
        "            correct += 1\n",
        "    elif pred[0] > 0.5:\n",
        "        correct += 1\n",
        "\n",
        "print('The accuracy on {0} testing samples is: {1:.1f}%'.format(len(Y_test), correct/len(Y_test)*100))\n",
        "\n",
        "# Disini kita mencoba membuktikan algoritma yang sudah kita bangun sebelumnya, dimana data akan di cleaning terlebih dahulu\n",
        "# Kemudian akan dimasukkan kedalam fungsi prior, likelihood dan posterior\n",
        "# Selanjutnya kita akan mencetak akurasi hasil dari model yang sudah kita buat sebelumnya, dan didapat akurasi dari 26 testing sample sebesar 88.5%  "
      ],
      "execution_count": 14,
      "outputs": [
        {
          "output_type": "stream",
          "text": [
            "The accuracy on 26 testing samples is: 88.5%\n"
          ],
          "name": "stdout"
        }
      ]
    },
    {
      "cell_type": "markdown",
      "metadata": {
        "id": "8ih2B4g1g6W9"
      },
      "source": [
        "### Membuat Multinomial NB model"
      ]
    },
    {
      "cell_type": "code",
      "metadata": {
        "colab": {
          "base_uri": "https://localhost:8080/"
        },
        "id": "JBA1wr-Eg6hU",
        "outputId": "07a459a4-acf6-4b32-c11a-2ccdb11f5b23"
      },
      "source": [
        "term_docs_train = cv.fit_transform(X_train)\n",
        "term_docs_test = cv.transform(X_test)\n",
        "\n",
        "clf = MultinomialNB(alpha=1.0, fit_prior=True)\n",
        "clf.fit(term_docs_train, Y_train)\n",
        "prediction_prob = clf.predict_proba(term_docs_test)\n",
        "prediction_prob[0:10]\n",
        "prediction = clf.predict(term_docs_test)\n",
        "prediction[:10]\n",
        "accuracy = clf.score(term_docs_test, Y_test)\n",
        "print('The accuracy with MultinomialNB Model is: {0:.1f}%'.format(accuracy*100))\n",
        "\n",
        "# Untuk membuat MNB Model kita bisa langsung memanggil fungsi MultinomialNB(), karena sudah terdapat rumus perhitungan didalamnya\n",
        "# Namun disirni saya membuat 2 bentuk model, yang pertama NB Model yang menggunakan perhitungan manual dan yang satunya menggunakan fungsi dari library\n",
        "# Dan dipatkan hasil yang sama antara Naive bayes dengan metode manual dan MNB dengan menggunakan fungsi\n",
        "\n",
        "# Didapatkan hasil akurasi sebesar 88.5%\n",
        "# Dimana akurasi ini menurut saya merupakan angka yang cukup baik"
      ],
      "execution_count": 15,
      "outputs": [
        {
          "output_type": "stream",
          "text": [
            "The accuracy with MultinomialNB Model is: 88.5%\n"
          ],
          "name": "stdout"
        }
      ]
    },
    {
      "cell_type": "markdown",
      "metadata": {
        "id": "uJBMvzhkoD6Z"
      },
      "source": [
        "### Membuat Confusion Matrix"
      ]
    },
    {
      "cell_type": "code",
      "metadata": {
        "colab": {
          "base_uri": "https://localhost:8080/"
        },
        "id": "6bIkmR9LoGsO",
        "outputId": "525190d4-eed5-4535-a937-f5dd61b2a4d8"
      },
      "source": [
        "from sklearn.metrics import confusion_matrix\n",
        "print(confusion_matrix(Y_test, prediction, labels=[0, 1]))\n",
        "\n",
        "# Menghitung confussion matrix untuk evaluasi hasil dari model yang sudah dibuat"
      ],
      "execution_count": 16,
      "outputs": [
        {
          "output_type": "stream",
          "text": [
            "[[15  0]\n",
            " [ 3  8]]\n"
          ],
          "name": "stdout"
        }
      ]
    },
    {
      "cell_type": "markdown",
      "metadata": {
        "id": "cyphKN6BoHW9"
      },
      "source": [
        "### Membuat ROC Curve and menghitung score"
      ]
    },
    {
      "cell_type": "code",
      "metadata": {
        "colab": {
          "base_uri": "https://localhost:8080/",
          "height": 332
        },
        "id": "71hHZWtaoMKa",
        "outputId": "fdc86579-efa5-4570-a5be-ae7e69f350ef"
      },
      "source": [
        "pos_prob = prediction_prob[:, 1]\n",
        "thresholds = np.arange(0.0, 1.2, 0.1)\n",
        "true_pos, false_pos = [0]*len(thresholds), [0]*len(thresholds)\n",
        "for pred, y in zip(pos_prob, Y_test):\n",
        "    for i, threshold in enumerate(thresholds):\n",
        "        if pred >= threshold:\n",
        "            if y == 1:\n",
        "                true_pos[i] += 1\n",
        "            else:\n",
        "                false_pos[i] += 1\n",
        "        else:\n",
        "            break\n",
        "\n",
        "true_pos_rate = [tp / 516.0 for tp in true_pos]\n",
        "false_pos_rate = [fp / 1191.0 for fp in false_pos]\n",
        "\n",
        "from sklearn.metrics import roc_auc_score\n",
        "print(roc_auc_score(Y_test, pos_prob))\n",
        "\n",
        "import matplotlib.pyplot as plt\n",
        "plt.figure()\n",
        "lw = 2\n",
        "plt.plot(false_pos_rate, true_pos_rate, color='black',\n",
        "         lw=lw)\n",
        "plt.plot([0, 1], [0, 1], color='red', lw=lw, linestyle='--')\n",
        "plt.xlim([0.0, 1.0])\n",
        "plt.ylim([0.0, 1.05])\n",
        "plt.xlabel('False Positive Rate')\n",
        "plt.ylabel('True Positive Rate')\n",
        "plt.title('Receiver Operating Characteristic(ROC)')\n",
        "plt.legend(loc=\"lower right\")\n",
        "plt.show()\n",
        "\n",
        "# Menghitung akurasi dan confusion matrix untuk melihat seberapa akurat model yang sudah kita buat sebelumnya\n",
        "# Pada model ini, saya mendapatkan akurasi ROC yang cukup baik yaitu berupa 0.96"
      ],
      "execution_count": 17,
      "outputs": [
        {
          "output_type": "stream",
          "text": [
            "No handles with labels found to put in legend.\n"
          ],
          "name": "stderr"
        },
        {
          "output_type": "stream",
          "text": [
            "0.9696969696969697\n"
          ],
          "name": "stdout"
        },
        {
          "output_type": "display_data",
          "data": {
            "image/png": "[encoded data removed]",
            "text/plain": [
              "<Figure size 432x288 with 1 Axes>"
            ]
          },
          "metadata": {
            "tags": [],
            "needs_background": "light"
          }
        }
      ]
    }
  ]
}