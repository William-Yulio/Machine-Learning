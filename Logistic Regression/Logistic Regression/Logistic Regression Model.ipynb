{
  "nbformat": 4,
  "nbformat_minor": 0,
  "metadata": {
    "colab": {
      "name": "Quiz ML 2.ipynb",
      "provenance": []
    },
    "kernelspec": {
      "name": "python3",
      "display_name": "Python 3"
    },
    "language_info": {
      "name": "python"
    }
  },
  "cells": [
    {
      "cell_type": "markdown",
      "metadata": {
        "id": "WResY8sRScMd"
      },
      "source": [
        "## **Quiz ML No. 2**\n",
        "\n",
        "---\n",
        "\n",
        "### Logistic Regression\n",
        "\n",
        "Nama  : William Yulio\n",
        "\n",
        "NIM   : 2301869840\n",
        "\n",
        "Kelas : LD01"
      ]
    },
    {
      "cell_type": "markdown",
      "metadata": {
        "id": "7l-AXkTGSssQ"
      },
      "source": [
        "### Import Library yang akan digunakan"
      ]
    },
    {
      "cell_type": "code",
      "metadata": {
        "id": "lg4zCBwOF8jV"
      },
      "source": [
        "import numpy as np\n",
        "import pandas as pd\n",
        "from sklearn.model_selection import train_test_split\n",
        "from sklearn.preprocessing import LabelEncoder\n",
        "from sklearn.preprocessing import StandardScaler\n",
        "from sklearn.linear_model import LogisticRegression\n",
        "from sklearn.metrics import confusion_matrix"
      ],
      "execution_count": 1,
      "outputs": []
    },
    {
      "cell_type": "markdown",
      "metadata": {
        "id": "-bklwfLXSt-m"
      },
      "source": [
        "### Membaca Data Input dari CSV"
      ]
    },
    {
      "cell_type": "code",
      "metadata": {
        "colab": {
          "base_uri": "https://localhost:8080/",
          "height": 443
        },
        "id": "zUxGg0vcZrQL",
        "outputId": "f0167525-00e8-4919-e0a3-ff05503581f1"
      },
      "source": [
        "data = pd.read_csv('credit-approval_csv.csv')\n",
        "data"
      ],
      "execution_count": 2,
      "outputs": [
        {
          "output_type": "execute_result",
          "data": {
            "text/html": [
              "<div>\n",
              "<style scoped>\n",
              "    .dataframe tbody tr th:only-of-type {\n",
              "        vertical-align: middle;\n",
              "    }\n",
              "\n",
              "    .dataframe tbody tr th {\n",
              "        vertical-align: top;\n",
              "    }\n",
              "\n",
              "    .dataframe thead th {\n",
              "        text-align: right;\n",
              "    }\n",
              "</style>\n",
              "<table border=\"1\" class=\"dataframe\">\n",
              "  <thead>\n",
              "    <tr style=\"text-align: right;\">\n",
              "      <th></th>\n",
              "      <th>Gender</th>\n",
              "      <th>Age</th>\n",
              "      <th>Debt</th>\n",
              "      <th>Married</th>\n",
              "      <th>BankCustomer</th>\n",
              "      <th>EducationLevel</th>\n",
              "      <th>Ethnicity</th>\n",
              "      <th>YearsEmployed</th>\n",
              "      <th>PriorDefault</th>\n",
              "      <th>Employed</th>\n",
              "      <th>CreditScore</th>\n",
              "      <th>DriversLicense</th>\n",
              "      <th>Citizen</th>\n",
              "      <th>ZipCode</th>\n",
              "      <th>Income</th>\n",
              "      <th>Approved</th>\n",
              "      <th>Approved_Status</th>\n",
              "    </tr>\n",
              "  </thead>\n",
              "  <tbody>\n",
              "    <tr>\n",
              "      <th>0</th>\n",
              "      <td>b</td>\n",
              "      <td>30.83</td>\n",
              "      <td>0.000</td>\n",
              "      <td>u</td>\n",
              "      <td>g</td>\n",
              "      <td>w</td>\n",
              "      <td>v</td>\n",
              "      <td>1.25</td>\n",
              "      <td>t</td>\n",
              "      <td>t</td>\n",
              "      <td>1</td>\n",
              "      <td>f</td>\n",
              "      <td>g</td>\n",
              "      <td>202.0</td>\n",
              "      <td>0</td>\n",
              "      <td>+</td>\n",
              "      <td>Approved</td>\n",
              "    </tr>\n",
              "    <tr>\n",
              "      <th>1</th>\n",
              "      <td>a</td>\n",
              "      <td>58.67</td>\n",
              "      <td>4.460</td>\n",
              "      <td>u</td>\n",
              "      <td>g</td>\n",
              "      <td>q</td>\n",
              "      <td>h</td>\n",
              "      <td>3.04</td>\n",
              "      <td>t</td>\n",
              "      <td>t</td>\n",
              "      <td>6</td>\n",
              "      <td>f</td>\n",
              "      <td>g</td>\n",
              "      <td>43.0</td>\n",
              "      <td>560</td>\n",
              "      <td>+</td>\n",
              "      <td>Approved</td>\n",
              "    </tr>\n",
              "    <tr>\n",
              "      <th>2</th>\n",
              "      <td>a</td>\n",
              "      <td>24.50</td>\n",
              "      <td>0.500</td>\n",
              "      <td>u</td>\n",
              "      <td>g</td>\n",
              "      <td>q</td>\n",
              "      <td>h</td>\n",
              "      <td>1.50</td>\n",
              "      <td>t</td>\n",
              "      <td>f</td>\n",
              "      <td>0</td>\n",
              "      <td>f</td>\n",
              "      <td>g</td>\n",
              "      <td>280.0</td>\n",
              "      <td>824</td>\n",
              "      <td>+</td>\n",
              "      <td>Approved</td>\n",
              "    </tr>\n",
              "    <tr>\n",
              "      <th>3</th>\n",
              "      <td>b</td>\n",
              "      <td>27.83</td>\n",
              "      <td>1.540</td>\n",
              "      <td>u</td>\n",
              "      <td>g</td>\n",
              "      <td>w</td>\n",
              "      <td>v</td>\n",
              "      <td>3.75</td>\n",
              "      <td>t</td>\n",
              "      <td>t</td>\n",
              "      <td>5</td>\n",
              "      <td>t</td>\n",
              "      <td>g</td>\n",
              "      <td>100.0</td>\n",
              "      <td>3</td>\n",
              "      <td>+</td>\n",
              "      <td>Approved</td>\n",
              "    </tr>\n",
              "    <tr>\n",
              "      <th>4</th>\n",
              "      <td>b</td>\n",
              "      <td>20.17</td>\n",
              "      <td>5.625</td>\n",
              "      <td>u</td>\n",
              "      <td>g</td>\n",
              "      <td>w</td>\n",
              "      <td>v</td>\n",
              "      <td>1.71</td>\n",
              "      <td>t</td>\n",
              "      <td>f</td>\n",
              "      <td>0</td>\n",
              "      <td>f</td>\n",
              "      <td>s</td>\n",
              "      <td>120.0</td>\n",
              "      <td>0</td>\n",
              "      <td>+</td>\n",
              "      <td>Approved</td>\n",
              "    </tr>\n",
              "    <tr>\n",
              "      <th>...</th>\n",
              "      <td>...</td>\n",
              "      <td>...</td>\n",
              "      <td>...</td>\n",
              "      <td>...</td>\n",
              "      <td>...</td>\n",
              "      <td>...</td>\n",
              "      <td>...</td>\n",
              "      <td>...</td>\n",
              "      <td>...</td>\n",
              "      <td>...</td>\n",
              "      <td>...</td>\n",
              "      <td>...</td>\n",
              "      <td>...</td>\n",
              "      <td>...</td>\n",
              "      <td>...</td>\n",
              "      <td>...</td>\n",
              "      <td>...</td>\n",
              "    </tr>\n",
              "    <tr>\n",
              "      <th>685</th>\n",
              "      <td>b</td>\n",
              "      <td>21.08</td>\n",
              "      <td>10.085</td>\n",
              "      <td>y</td>\n",
              "      <td>p</td>\n",
              "      <td>e</td>\n",
              "      <td>h</td>\n",
              "      <td>1.25</td>\n",
              "      <td>f</td>\n",
              "      <td>f</td>\n",
              "      <td>0</td>\n",
              "      <td>f</td>\n",
              "      <td>g</td>\n",
              "      <td>260.0</td>\n",
              "      <td>0</td>\n",
              "      <td>-</td>\n",
              "      <td>Not Approved</td>\n",
              "    </tr>\n",
              "    <tr>\n",
              "      <th>686</th>\n",
              "      <td>a</td>\n",
              "      <td>22.67</td>\n",
              "      <td>0.750</td>\n",
              "      <td>u</td>\n",
              "      <td>g</td>\n",
              "      <td>c</td>\n",
              "      <td>v</td>\n",
              "      <td>2.00</td>\n",
              "      <td>f</td>\n",
              "      <td>t</td>\n",
              "      <td>2</td>\n",
              "      <td>t</td>\n",
              "      <td>g</td>\n",
              "      <td>200.0</td>\n",
              "      <td>394</td>\n",
              "      <td>-</td>\n",
              "      <td>Not Approved</td>\n",
              "    </tr>\n",
              "    <tr>\n",
              "      <th>687</th>\n",
              "      <td>a</td>\n",
              "      <td>25.25</td>\n",
              "      <td>13.500</td>\n",
              "      <td>y</td>\n",
              "      <td>p</td>\n",
              "      <td>ff</td>\n",
              "      <td>ff</td>\n",
              "      <td>2.00</td>\n",
              "      <td>f</td>\n",
              "      <td>t</td>\n",
              "      <td>1</td>\n",
              "      <td>t</td>\n",
              "      <td>g</td>\n",
              "      <td>200.0</td>\n",
              "      <td>1</td>\n",
              "      <td>-</td>\n",
              "      <td>Not Approved</td>\n",
              "    </tr>\n",
              "    <tr>\n",
              "      <th>688</th>\n",
              "      <td>b</td>\n",
              "      <td>17.92</td>\n",
              "      <td>0.205</td>\n",
              "      <td>u</td>\n",
              "      <td>g</td>\n",
              "      <td>aa</td>\n",
              "      <td>v</td>\n",
              "      <td>0.04</td>\n",
              "      <td>f</td>\n",
              "      <td>f</td>\n",
              "      <td>0</td>\n",
              "      <td>f</td>\n",
              "      <td>g</td>\n",
              "      <td>280.0</td>\n",
              "      <td>750</td>\n",
              "      <td>-</td>\n",
              "      <td>Not Approved</td>\n",
              "    </tr>\n",
              "    <tr>\n",
              "      <th>689</th>\n",
              "      <td>b</td>\n",
              "      <td>35.00</td>\n",
              "      <td>3.375</td>\n",
              "      <td>u</td>\n",
              "      <td>g</td>\n",
              "      <td>c</td>\n",
              "      <td>h</td>\n",
              "      <td>8.29</td>\n",
              "      <td>f</td>\n",
              "      <td>f</td>\n",
              "      <td>0</td>\n",
              "      <td>t</td>\n",
              "      <td>g</td>\n",
              "      <td>0.0</td>\n",
              "      <td>0</td>\n",
              "      <td>-</td>\n",
              "      <td>Not Approved</td>\n",
              "    </tr>\n",
              "  </tbody>\n",
              "</table>\n",
              "<p>690 rows × 17 columns</p>\n",
              "</div>"
            ],
            "text/plain": [
              "    Gender    Age    Debt Married  ... ZipCode Income Approved  Approved_Status\n",
              "0        b  30.83   0.000       u  ...   202.0      0        +         Approved\n",
              "1        a  58.67   4.460       u  ...    43.0    560        +         Approved\n",
              "2        a  24.50   0.500       u  ...   280.0    824        +         Approved\n",
              "3        b  27.83   1.540       u  ...   100.0      3        +         Approved\n",
              "4        b  20.17   5.625       u  ...   120.0      0        +         Approved\n",
              "..     ...    ...     ...     ...  ...     ...    ...      ...              ...\n",
              "685      b  21.08  10.085       y  ...   260.0      0        -     Not Approved\n",
              "686      a  22.67   0.750       u  ...   200.0    394        -     Not Approved\n",
              "687      a  25.25  13.500       y  ...   200.0      1        -     Not Approved\n",
              "688      b  17.92   0.205       u  ...   280.0    750        -     Not Approved\n",
              "689      b  35.00   3.375       u  ...     0.0      0        -     Not Approved\n",
              "\n",
              "[690 rows x 17 columns]"
            ]
          },
          "metadata": {
            "tags": []
          },
          "execution_count": 2
        }
      ]
    },
    {
      "cell_type": "markdown",
      "metadata": {
        "id": "dZ_NSVoZTlit"
      },
      "source": [
        "### Data Cleaning "
      ]
    },
    {
      "cell_type": "code",
      "metadata": {
        "id": "b1yldhYVZrNe"
      },
      "source": [
        "data = data.replace({\"?\":np.nan})\n",
        "\n",
        "# Mengganti data-data dengan value '?' menjadi null, agar bisa dimasukkan value baru kedalamnya"
      ],
      "execution_count": 3,
      "outputs": []
    },
    {
      "cell_type": "code",
      "metadata": {
        "colab": {
          "base_uri": "https://localhost:8080/"
        },
        "id": "bZSTCFU3ZrLM",
        "outputId": "d0a1b944-98da-479c-f704-7b9d08201c2f"
      },
      "source": [
        "data.fillna(data.mean(), inplace=True)\n",
        "data.isnull().sum()\n",
        "\n",
        "# Melakukan impute kedalam missing value yang baru saja kita proses berdasarkan mean dari datasetnya\n",
        "# Selanjutkan kita akan melakukan check apakah masih terdapat data null didalam dataset lainnya"
      ],
      "execution_count": 4,
      "outputs": [
        {
          "output_type": "execute_result",
          "data": {
            "text/plain": [
              "Gender             12\n",
              "Age                 0\n",
              "Debt                0\n",
              "Married             6\n",
              "BankCustomer        6\n",
              "EducationLevel      9\n",
              "Ethnicity           9\n",
              "YearsEmployed       0\n",
              "PriorDefault        0\n",
              "Employed            0\n",
              "CreditScore         0\n",
              "DriversLicense      0\n",
              "Citizen             0\n",
              "ZipCode             0\n",
              "Income              0\n",
              "Approved            0\n",
              "Approved_Status     0\n",
              "dtype: int64"
            ]
          },
          "metadata": {
            "tags": []
          },
          "execution_count": 4
        }
      ]
    },
    {
      "cell_type": "code",
      "metadata": {
        "colab": {
          "base_uri": "https://localhost:8080/"
        },
        "id": "M8FWkmUjZrIi",
        "outputId": "025a601d-328a-49e2-f836-4649956a260c"
      },
      "source": [
        "for col in data:\n",
        "    \n",
        "    if (data[col].dtypes == 'object'):\n",
        "        data = data.fillna(data[col].value_counts().index[0])\n",
        "        \n",
        "data.isnull().sum()\n",
        "\n",
        "# Selanjutnya kita beralih dari kolom scalar menuju ke kolom categorical\n",
        "# Didalam for ini kita akan melakukan checking apakah terdapat data yang memiliki value null untuk kolom categorical\n",
        "# Kemudian diisi dengan data yang paling sering muncul"
      ],
      "execution_count": 5,
      "outputs": [
        {
          "output_type": "execute_result",
          "data": {
            "text/plain": [
              "Gender             0\n",
              "Age                0\n",
              "Debt               0\n",
              "Married            0\n",
              "BankCustomer       0\n",
              "EducationLevel     0\n",
              "Ethnicity          0\n",
              "YearsEmployed      0\n",
              "PriorDefault       0\n",
              "Employed           0\n",
              "CreditScore        0\n",
              "DriversLicense     0\n",
              "Citizen            0\n",
              "ZipCode            0\n",
              "Income             0\n",
              "Approved           0\n",
              "Approved_Status    0\n",
              "dtype: int64"
            ]
          },
          "metadata": {
            "tags": []
          },
          "execution_count": 5
        }
      ]
    },
    {
      "cell_type": "markdown",
      "metadata": {
        "id": "f7gNqGoSY9yh"
      },
      "source": [
        "### Encode data kategorial menjadi scalar value"
      ]
    },
    {
      "cell_type": "code",
      "metadata": {
        "colab": {
          "base_uri": "https://localhost:8080/",
          "height": 226
        },
        "id": "S_EbV73pZrGV",
        "outputId": "0922e19d-ef0a-4249-c238-7cafcd8b3297"
      },
      "source": [
        "Encoder = LabelEncoder()\n",
        "data['Approved_Status'] = Encoder.fit_transform(data['Approved_Status'])\n",
        "\n",
        "data.head()\n",
        "\n",
        "# melakukan encode terhadap output yang berupa approved dan not approved kedalam bentuk scalar agar lebih mudah untuk diolah"
      ],
      "execution_count": 6,
      "outputs": [
        {
          "output_type": "execute_result",
          "data": {
            "text/html": [
              "<div>\n",
              "<style scoped>\n",
              "    .dataframe tbody tr th:only-of-type {\n",
              "        vertical-align: middle;\n",
              "    }\n",
              "\n",
              "    .dataframe tbody tr th {\n",
              "        vertical-align: top;\n",
              "    }\n",
              "\n",
              "    .dataframe thead th {\n",
              "        text-align: right;\n",
              "    }\n",
              "</style>\n",
              "<table border=\"1\" class=\"dataframe\">\n",
              "  <thead>\n",
              "    <tr style=\"text-align: right;\">\n",
              "      <th></th>\n",
              "      <th>Gender</th>\n",
              "      <th>Age</th>\n",
              "      <th>Debt</th>\n",
              "      <th>Married</th>\n",
              "      <th>BankCustomer</th>\n",
              "      <th>EducationLevel</th>\n",
              "      <th>Ethnicity</th>\n",
              "      <th>YearsEmployed</th>\n",
              "      <th>PriorDefault</th>\n",
              "      <th>Employed</th>\n",
              "      <th>CreditScore</th>\n",
              "      <th>DriversLicense</th>\n",
              "      <th>Citizen</th>\n",
              "      <th>ZipCode</th>\n",
              "      <th>Income</th>\n",
              "      <th>Approved</th>\n",
              "      <th>Approved_Status</th>\n",
              "    </tr>\n",
              "  </thead>\n",
              "  <tbody>\n",
              "    <tr>\n",
              "      <th>0</th>\n",
              "      <td>b</td>\n",
              "      <td>30.83</td>\n",
              "      <td>0.000</td>\n",
              "      <td>u</td>\n",
              "      <td>g</td>\n",
              "      <td>w</td>\n",
              "      <td>v</td>\n",
              "      <td>1.25</td>\n",
              "      <td>t</td>\n",
              "      <td>t</td>\n",
              "      <td>1</td>\n",
              "      <td>f</td>\n",
              "      <td>g</td>\n",
              "      <td>202.0</td>\n",
              "      <td>0</td>\n",
              "      <td>+</td>\n",
              "      <td>0</td>\n",
              "    </tr>\n",
              "    <tr>\n",
              "      <th>1</th>\n",
              "      <td>a</td>\n",
              "      <td>58.67</td>\n",
              "      <td>4.460</td>\n",
              "      <td>u</td>\n",
              "      <td>g</td>\n",
              "      <td>q</td>\n",
              "      <td>h</td>\n",
              "      <td>3.04</td>\n",
              "      <td>t</td>\n",
              "      <td>t</td>\n",
              "      <td>6</td>\n",
              "      <td>f</td>\n",
              "      <td>g</td>\n",
              "      <td>43.0</td>\n",
              "      <td>560</td>\n",
              "      <td>+</td>\n",
              "      <td>0</td>\n",
              "    </tr>\n",
              "    <tr>\n",
              "      <th>2</th>\n",
              "      <td>a</td>\n",
              "      <td>24.50</td>\n",
              "      <td>0.500</td>\n",
              "      <td>u</td>\n",
              "      <td>g</td>\n",
              "      <td>q</td>\n",
              "      <td>h</td>\n",
              "      <td>1.50</td>\n",
              "      <td>t</td>\n",
              "      <td>f</td>\n",
              "      <td>0</td>\n",
              "      <td>f</td>\n",
              "      <td>g</td>\n",
              "      <td>280.0</td>\n",
              "      <td>824</td>\n",
              "      <td>+</td>\n",
              "      <td>0</td>\n",
              "    </tr>\n",
              "    <tr>\n",
              "      <th>3</th>\n",
              "      <td>b</td>\n",
              "      <td>27.83</td>\n",
              "      <td>1.540</td>\n",
              "      <td>u</td>\n",
              "      <td>g</td>\n",
              "      <td>w</td>\n",
              "      <td>v</td>\n",
              "      <td>3.75</td>\n",
              "      <td>t</td>\n",
              "      <td>t</td>\n",
              "      <td>5</td>\n",
              "      <td>t</td>\n",
              "      <td>g</td>\n",
              "      <td>100.0</td>\n",
              "      <td>3</td>\n",
              "      <td>+</td>\n",
              "      <td>0</td>\n",
              "    </tr>\n",
              "    <tr>\n",
              "      <th>4</th>\n",
              "      <td>b</td>\n",
              "      <td>20.17</td>\n",
              "      <td>5.625</td>\n",
              "      <td>u</td>\n",
              "      <td>g</td>\n",
              "      <td>w</td>\n",
              "      <td>v</td>\n",
              "      <td>1.71</td>\n",
              "      <td>t</td>\n",
              "      <td>f</td>\n",
              "      <td>0</td>\n",
              "      <td>f</td>\n",
              "      <td>s</td>\n",
              "      <td>120.0</td>\n",
              "      <td>0</td>\n",
              "      <td>+</td>\n",
              "      <td>0</td>\n",
              "    </tr>\n",
              "  </tbody>\n",
              "</table>\n",
              "</div>"
            ],
            "text/plain": [
              "  Gender    Age   Debt Married  ... ZipCode Income Approved  Approved_Status\n",
              "0      b  30.83  0.000       u  ...   202.0      0        +                0\n",
              "1      a  58.67  4.460       u  ...    43.0    560        +                0\n",
              "2      a  24.50  0.500       u  ...   280.0    824        +                0\n",
              "3      b  27.83  1.540       u  ...   100.0      3        +                0\n",
              "4      b  20.17  5.625       u  ...   120.0      0        +                0\n",
              "\n",
              "[5 rows x 17 columns]"
            ]
          },
          "metadata": {
            "tags": []
          },
          "execution_count": 6
        }
      ]
    },
    {
      "cell_type": "code",
      "metadata": {
        "id": "Fwo1MCuR97cB"
      },
      "source": [
        "data_kategori = data[['Gender', 'Married', 'BankCustomer', 'EducationLevel', 'Ethnicity', 'PriorDefault', 'Employed', 'DriversLicense', 'Citizen']]\n",
        "\n",
        "data_kategori = data_kategori.apply(Encoder.fit_transform)\n",
        "\n",
        "# melakukan encode terhadap data yang bersifat kategori sehingga bisa memiliki value scalar"
      ],
      "execution_count": 7,
      "outputs": []
    },
    {
      "cell_type": "code",
      "metadata": {
        "id": "5xjs_U4e97R0"
      },
      "source": [
        "data = data.drop(data_kategori.columns, axis=1)\n",
        "data = pd.concat([data, data_kategori], axis=1)\n",
        "\n",
        "# Kemudian menggabungkan kembali data_kategori yang sudah di encode sebelumnya kedalam dataset yang utama"
      ],
      "execution_count": 8,
      "outputs": []
    },
    {
      "cell_type": "code",
      "metadata": {
        "colab": {
          "base_uri": "https://localhost:8080/"
        },
        "id": "A2wRRMZAZq82",
        "outputId": "b3e4f313-a1e9-4f98-bc85-03b6e710b1eb"
      },
      "source": [
        "Correlation = data.corr()\n",
        "Correlation['Approved_Status'].abs().sort_values(ascending = False)\n",
        "\n",
        "# Selanjutnya kita akan melihat variabel mana yang memiliki korelasi tertinggi dengan variabel output\n",
        "# Kita akan melakukan proses seleksi variabel bebas mana yang akan dimasukkan kedalam model\n",
        "# Variabel bebas yang akan diambil merupakan variabel yang memiliki korelasi >= 0.1\n",
        "# Variabel yang dibawah 0.1 akan didrop dari tabel dataset"
      ],
      "execution_count": 9,
      "outputs": [
        {
          "output_type": "execute_result",
          "data": {
            "text/plain": [
              "Approved_Status    1.000000\n",
              "PriorDefault       0.720407\n",
              "Employed           0.458301\n",
              "CreditScore        0.406410\n",
              "YearsEmployed      0.322475\n",
              "Debt               0.206294\n",
              "Married            0.191431\n",
              "BankCustomer       0.187520\n",
              "Income             0.175657\n",
              "Age                0.161627\n",
              "EducationLevel     0.130026\n",
              "Citizen            0.100867\n",
              "ZipCode            0.099972\n",
              "DriversLicense     0.031625\n",
              "Gender             0.028934\n",
              "Ethnicity          0.000877\n",
              "Name: Approved_Status, dtype: float64"
            ]
          },
          "metadata": {
            "tags": []
          },
          "execution_count": 9
        }
      ]
    },
    {
      "cell_type": "code",
      "metadata": {
        "colab": {
          "base_uri": "https://localhost:8080/",
          "height": 226
        },
        "id": "Pv4EEcR7A0TJ",
        "outputId": "e438dc63-8289-436b-8ac2-f95fbc7c1485"
      },
      "source": [
        "data = data.drop(['Ethnicity','Gender','DriversLicense','ZipCode'], axis=1)\n",
        "data.head()\n",
        "\n",
        "# Kemudian variabel yang sebelumnya sudah kita lihat korelasinya dengan variabel independent\n",
        "# akan didrop, sehingga kita hanya akan menggunakan variabel dengan korelasi yang tinggi saja"
      ],
      "execution_count": 10,
      "outputs": [
        {
          "output_type": "execute_result",
          "data": {
            "text/html": [
              "<div>\n",
              "<style scoped>\n",
              "    .dataframe tbody tr th:only-of-type {\n",
              "        vertical-align: middle;\n",
              "    }\n",
              "\n",
              "    .dataframe tbody tr th {\n",
              "        vertical-align: top;\n",
              "    }\n",
              "\n",
              "    .dataframe thead th {\n",
              "        text-align: right;\n",
              "    }\n",
              "</style>\n",
              "<table border=\"1\" class=\"dataframe\">\n",
              "  <thead>\n",
              "    <tr style=\"text-align: right;\">\n",
              "      <th></th>\n",
              "      <th>Age</th>\n",
              "      <th>Debt</th>\n",
              "      <th>YearsEmployed</th>\n",
              "      <th>CreditScore</th>\n",
              "      <th>Income</th>\n",
              "      <th>Approved</th>\n",
              "      <th>Approved_Status</th>\n",
              "      <th>Married</th>\n",
              "      <th>BankCustomer</th>\n",
              "      <th>EducationLevel</th>\n",
              "      <th>PriorDefault</th>\n",
              "      <th>Employed</th>\n",
              "      <th>Citizen</th>\n",
              "    </tr>\n",
              "  </thead>\n",
              "  <tbody>\n",
              "    <tr>\n",
              "      <th>0</th>\n",
              "      <td>30.83</td>\n",
              "      <td>0.000</td>\n",
              "      <td>1.25</td>\n",
              "      <td>1</td>\n",
              "      <td>0</td>\n",
              "      <td>+</td>\n",
              "      <td>0</td>\n",
              "      <td>2</td>\n",
              "      <td>1</td>\n",
              "      <td>13</td>\n",
              "      <td>1</td>\n",
              "      <td>1</td>\n",
              "      <td>0</td>\n",
              "    </tr>\n",
              "    <tr>\n",
              "      <th>1</th>\n",
              "      <td>58.67</td>\n",
              "      <td>4.460</td>\n",
              "      <td>3.04</td>\n",
              "      <td>6</td>\n",
              "      <td>560</td>\n",
              "      <td>+</td>\n",
              "      <td>0</td>\n",
              "      <td>2</td>\n",
              "      <td>1</td>\n",
              "      <td>11</td>\n",
              "      <td>1</td>\n",
              "      <td>1</td>\n",
              "      <td>0</td>\n",
              "    </tr>\n",
              "    <tr>\n",
              "      <th>2</th>\n",
              "      <td>24.50</td>\n",
              "      <td>0.500</td>\n",
              "      <td>1.50</td>\n",
              "      <td>0</td>\n",
              "      <td>824</td>\n",
              "      <td>+</td>\n",
              "      <td>0</td>\n",
              "      <td>2</td>\n",
              "      <td>1</td>\n",
              "      <td>11</td>\n",
              "      <td>1</td>\n",
              "      <td>0</td>\n",
              "      <td>0</td>\n",
              "    </tr>\n",
              "    <tr>\n",
              "      <th>3</th>\n",
              "      <td>27.83</td>\n",
              "      <td>1.540</td>\n",
              "      <td>3.75</td>\n",
              "      <td>5</td>\n",
              "      <td>3</td>\n",
              "      <td>+</td>\n",
              "      <td>0</td>\n",
              "      <td>2</td>\n",
              "      <td>1</td>\n",
              "      <td>13</td>\n",
              "      <td>1</td>\n",
              "      <td>1</td>\n",
              "      <td>0</td>\n",
              "    </tr>\n",
              "    <tr>\n",
              "      <th>4</th>\n",
              "      <td>20.17</td>\n",
              "      <td>5.625</td>\n",
              "      <td>1.71</td>\n",
              "      <td>0</td>\n",
              "      <td>0</td>\n",
              "      <td>+</td>\n",
              "      <td>0</td>\n",
              "      <td>2</td>\n",
              "      <td>1</td>\n",
              "      <td>13</td>\n",
              "      <td>1</td>\n",
              "      <td>0</td>\n",
              "      <td>2</td>\n",
              "    </tr>\n",
              "  </tbody>\n",
              "</table>\n",
              "</div>"
            ],
            "text/plain": [
              "     Age   Debt  YearsEmployed  ...  PriorDefault  Employed Citizen\n",
              "0  30.83  0.000           1.25  ...             1         1       0\n",
              "1  58.67  4.460           3.04  ...             1         1       0\n",
              "2  24.50  0.500           1.50  ...             1         0       0\n",
              "3  27.83  1.540           3.75  ...             1         1       0\n",
              "4  20.17  5.625           1.71  ...             1         0       2\n",
              "\n",
              "[5 rows x 13 columns]"
            ]
          },
          "metadata": {
            "tags": []
          },
          "execution_count": 10
        }
      ]
    },
    {
      "cell_type": "markdown",
      "metadata": {
        "id": "7hDNSLiqbFSN"
      },
      "source": [
        "### Melakukan pemetaan terhadap data input dan output kedalam variabel x dan y "
      ]
    },
    {
      "cell_type": "code",
      "metadata": {
        "colab": {
          "base_uri": "https://localhost:8080/",
          "height": 226
        },
        "id": "XHQyM00g8DwW",
        "outputId": "a731357b-8932-4712-e536-f6ba32b5e1e7"
      },
      "source": [
        "X = data[['Debt','YearsEmployed','CreditScore','Income','Age','Married','BankCustomer','PriorDefault','Employed','Citizen','EducationLevel']]    # independent varible\n",
        "y = data[['Approved_Status']]     # dependent variable\n",
        "\n",
        "X.head()"
      ],
      "execution_count": 11,
      "outputs": [
        {
          "output_type": "execute_result",
          "data": {
            "text/html": [
              "<div>\n",
              "<style scoped>\n",
              "    .dataframe tbody tr th:only-of-type {\n",
              "        vertical-align: middle;\n",
              "    }\n",
              "\n",
              "    .dataframe tbody tr th {\n",
              "        vertical-align: top;\n",
              "    }\n",
              "\n",
              "    .dataframe thead th {\n",
              "        text-align: right;\n",
              "    }\n",
              "</style>\n",
              "<table border=\"1\" class=\"dataframe\">\n",
              "  <thead>\n",
              "    <tr style=\"text-align: right;\">\n",
              "      <th></th>\n",
              "      <th>Debt</th>\n",
              "      <th>YearsEmployed</th>\n",
              "      <th>CreditScore</th>\n",
              "      <th>Income</th>\n",
              "      <th>Age</th>\n",
              "      <th>Married</th>\n",
              "      <th>BankCustomer</th>\n",
              "      <th>PriorDefault</th>\n",
              "      <th>Employed</th>\n",
              "      <th>Citizen</th>\n",
              "      <th>EducationLevel</th>\n",
              "    </tr>\n",
              "  </thead>\n",
              "  <tbody>\n",
              "    <tr>\n",
              "      <th>0</th>\n",
              "      <td>0.000</td>\n",
              "      <td>1.25</td>\n",
              "      <td>1</td>\n",
              "      <td>0</td>\n",
              "      <td>30.83</td>\n",
              "      <td>2</td>\n",
              "      <td>1</td>\n",
              "      <td>1</td>\n",
              "      <td>1</td>\n",
              "      <td>0</td>\n",
              "      <td>13</td>\n",
              "    </tr>\n",
              "    <tr>\n",
              "      <th>1</th>\n",
              "      <td>4.460</td>\n",
              "      <td>3.04</td>\n",
              "      <td>6</td>\n",
              "      <td>560</td>\n",
              "      <td>58.67</td>\n",
              "      <td>2</td>\n",
              "      <td>1</td>\n",
              "      <td>1</td>\n",
              "      <td>1</td>\n",
              "      <td>0</td>\n",
              "      <td>11</td>\n",
              "    </tr>\n",
              "    <tr>\n",
              "      <th>2</th>\n",
              "      <td>0.500</td>\n",
              "      <td>1.50</td>\n",
              "      <td>0</td>\n",
              "      <td>824</td>\n",
              "      <td>24.50</td>\n",
              "      <td>2</td>\n",
              "      <td>1</td>\n",
              "      <td>1</td>\n",
              "      <td>0</td>\n",
              "      <td>0</td>\n",
              "      <td>11</td>\n",
              "    </tr>\n",
              "    <tr>\n",
              "      <th>3</th>\n",
              "      <td>1.540</td>\n",
              "      <td>3.75</td>\n",
              "      <td>5</td>\n",
              "      <td>3</td>\n",
              "      <td>27.83</td>\n",
              "      <td>2</td>\n",
              "      <td>1</td>\n",
              "      <td>1</td>\n",
              "      <td>1</td>\n",
              "      <td>0</td>\n",
              "      <td>13</td>\n",
              "    </tr>\n",
              "    <tr>\n",
              "      <th>4</th>\n",
              "      <td>5.625</td>\n",
              "      <td>1.71</td>\n",
              "      <td>0</td>\n",
              "      <td>0</td>\n",
              "      <td>20.17</td>\n",
              "      <td>2</td>\n",
              "      <td>1</td>\n",
              "      <td>1</td>\n",
              "      <td>0</td>\n",
              "      <td>2</td>\n",
              "      <td>13</td>\n",
              "    </tr>\n",
              "  </tbody>\n",
              "</table>\n",
              "</div>"
            ],
            "text/plain": [
              "    Debt  YearsEmployed  CreditScore  ...  Employed  Citizen  EducationLevel\n",
              "0  0.000           1.25            1  ...         1        0              13\n",
              "1  4.460           3.04            6  ...         1        0              11\n",
              "2  0.500           1.50            0  ...         0        0              11\n",
              "3  1.540           3.75            5  ...         1        0              13\n",
              "4  5.625           1.71            0  ...         0        2              13\n",
              "\n",
              "[5 rows x 11 columns]"
            ]
          },
          "metadata": {
            "tags": []
          },
          "execution_count": 11
        }
      ]
    },
    {
      "cell_type": "markdown",
      "metadata": {
        "id": "7scBJEkzbOvl"
      },
      "source": [
        "### Melakukan Standard Scaler terhadap dataset"
      ]
    },
    {
      "cell_type": "code",
      "metadata": {
        "colab": {
          "base_uri": "https://localhost:8080/"
        },
        "id": "p3ARMdvH8Ds3",
        "outputId": "e86b0a14-2eec-4e7f-d995-d6ddb624b942"
      },
      "source": [
        "sc = StandardScaler()\n",
        "X = sc.fit_transform(X)\n",
        "print(X[:10])\n",
        "\n",
        "# Pada tahap ini kita akan berfokus untuk melakukan preprocessing sehingga dataset menjadi lebih mudah untuk diolah\n",
        "# menggunakan fungsi StandardSCaler() "
      ],
      "execution_count": 12,
      "outputs": [
        {
          "output_type": "stream",
          "text": [
            "[[-0.95661321 -0.29108264 -0.28810053 -0.19541334 -0.0623209  -0.4529545\n",
            "  -0.54294996  0.95465038  1.15714435 -0.31717105  1.44996197]\n",
            " [-0.06005053  0.24419044  0.74082993 -0.08785188  2.28810134 -0.4529545\n",
            "  -0.54294996  0.95465038  1.15714435 -0.31717105  0.99633524]\n",
            " [-0.8561017  -0.21632383 -0.49388662 -0.03714433 -0.59673802 -0.4529545\n",
            "  -0.54294996  0.95465038 -0.86419641 -0.31717105  0.99633524]\n",
            " [-0.64703776  0.45650546  0.53504384 -0.19483712 -0.31559915 -0.4529545\n",
            "  -0.54294996  0.95465038  1.15714435 -0.31717105  1.44996197]\n",
            " [ 0.17414129 -0.15352643 -0.49388662 -0.19541334 -0.96230297 -0.4529545\n",
            "  -0.54294996  0.95465038 -0.86419641  3.27050148  1.44996197]\n",
            " [-0.15252112  0.08271141 -0.49388662 -0.19541334  0.04321171 -0.4529545\n",
            "  -0.54294996  0.95465038 -0.86419641 -0.31717105  0.76952187]\n",
            " [-0.74754927  1.27885237 -0.49388662  5.81362283  0.13523615 -0.4529545\n",
            "  -0.54294996  0.95465038 -0.86419641 -0.31717105  1.22314861]\n",
            " [ 1.37223851 -0.65291528 -0.49388662  0.06369453 -0.73013124 -0.4529545\n",
            "  -0.54294996  0.95465038 -0.86419641 -0.31717105 -0.8181717 ]\n",
            " [-0.8561017   0.51930286 -0.49388662 -0.13510209  1.92929047  1.64462002\n",
            "   1.78397845  0.95465038 -0.86419641 -0.31717105  0.54270851]\n",
            " [ 0.03141495  0.28156985 -0.49388662  0.08155742  0.92293153  1.64462002\n",
            "   1.78397845  0.95465038 -0.86419641 -0.31717105  1.44996197]]\n"
          ],
          "name": "stdout"
        }
      ]
    },
    {
      "cell_type": "markdown",
      "metadata": {
        "id": "_msjwgq2bXvS"
      },
      "source": [
        "### Melakukan Split Dataset"
      ]
    },
    {
      "cell_type": "code",
      "metadata": {
        "id": "__JBI0cx9lP8"
      },
      "source": [
        "x_train, x_test, y_train, y_test = train_test_split(X, y, test_size=0.2)\n",
        "\n",
        "# Kita akan melakukan pemisahan dataset utuh kedalam variabel untuk melakukan testing dan juga training\n",
        "# Dimana data yang akan digunakan untuk test sebesar 20% dari total data utuhnya dan 80% lainnya dimasukkan kedalam variabel training"
      ],
      "execution_count": 13,
      "outputs": []
    },
    {
      "cell_type": "markdown",
      "metadata": {
        "id": "MlXAb99ubmjQ"
      },
      "source": [
        "### Membuat Model Logistic Regression"
      ]
    },
    {
      "cell_type": "code",
      "metadata": {
        "colab": {
          "base_uri": "https://localhost:8080/"
        },
        "id": "rc56ulUR8Ddk",
        "outputId": "6d19a097-e620-4ecf-d198-092cf33d5538"
      },
      "source": [
        "regressor = LogisticRegression()\n",
        "regressor.fit(x_train, y_train)\n",
        "\n",
        "# Memasukkan data yang sudah kita split sebelumnya kedalam model linear regression"
      ],
      "execution_count": 14,
      "outputs": [
        {
          "output_type": "stream",
          "text": [
            "/usr/local/lib/python3.7/dist-packages/sklearn/utils/validation.py:760: DataConversionWarning: A column-vector y was passed when a 1d array was expected. Please change the shape of y to (n_samples, ), for example using ravel().\n",
            "  y = column_or_1d(y, warn=True)\n"
          ],
          "name": "stderr"
        },
        {
          "output_type": "execute_result",
          "data": {
            "text/plain": [
              "LogisticRegression(C=1.0, class_weight=None, dual=False, fit_intercept=True,\n",
              "                   intercept_scaling=1, l1_ratio=None, max_iter=100,\n",
              "                   multi_class='auto', n_jobs=None, penalty='l2',\n",
              "                   random_state=None, solver='lbfgs', tol=0.0001, verbose=0,\n",
              "                   warm_start=False)"
            ]
          },
          "metadata": {
            "tags": []
          },
          "execution_count": 14
        }
      ]
    },
    {
      "cell_type": "markdown",
      "metadata": {
        "id": "PcLM5aHUb4GB"
      },
      "source": [
        "### Kalkulasi Predict Value"
      ]
    },
    {
      "cell_type": "code",
      "metadata": {
        "colab": {
          "base_uri": "https://localhost:8080/"
        },
        "id": "tNnx1AfgZq6J",
        "outputId": "d3fe34a8-fe61-4604-bdbc-f12ea8a9613f"
      },
      "source": [
        "y_pred = regressor.predict(x_test)\n",
        "y_pred\n",
        "\n",
        "# Melakukan kalkulasi terhadap predict value menggunakan model yang sudah kita buat sebelumnya"
      ],
      "execution_count": 15,
      "outputs": [
        {
          "output_type": "execute_result",
          "data": {
            "text/plain": [
              "array([1, 0, 1, 1, 0, 1, 0, 1, 0, 1, 0, 0, 1, 1, 1, 0, 1, 0, 1, 1, 1, 1,\n",
              "       0, 1, 1, 0, 1, 1, 0, 0, 1, 1, 1, 0, 0, 0, 0, 0, 0, 0, 1, 0, 0, 1,\n",
              "       0, 0, 1, 0, 1, 0, 0, 1, 0, 1, 1, 1, 0, 1, 1, 1, 1, 1, 0, 1, 1, 0,\n",
              "       0, 0, 1, 0, 0, 0, 0, 0, 0, 0, 0, 0, 1, 1, 1, 0, 0, 0, 0, 1, 0, 0,\n",
              "       0, 0, 0, 1, 1, 0, 0, 0, 0, 1, 0, 0, 0, 1, 1, 0, 1, 1, 0, 0, 1, 0,\n",
              "       1, 1, 0, 0, 0, 0, 1, 1, 0, 1, 1, 0, 1, 1, 1, 1, 1, 0, 0, 1, 0, 1,\n",
              "       1, 0, 1, 1, 0, 0])"
            ]
          },
          "metadata": {
            "tags": []
          },
          "execution_count": 15
        }
      ]
    },
    {
      "cell_type": "markdown",
      "metadata": {
        "id": "Xs4kgcRxcHT0"
      },
      "source": [
        "### Membuat Confusion Matrix"
      ]
    },
    {
      "cell_type": "code",
      "metadata": {
        "colab": {
          "base_uri": "https://localhost:8080/"
        },
        "id": "ERCSpRfaGXRv",
        "outputId": "ce2b087a-ac13-4619-884d-dd5b1802fd1b"
      },
      "source": [
        "print(\"Accuracy of logistic regression : \", regressor.score(x_test,y_test))\n",
        "\n",
        "# Print the confusion matrix of the logreg model\n",
        "print(\"Confusion Matrix \\n\", confusion_matrix(y_test, y_pred))\n",
        "\n",
        "# Menghitung akurasi dan confusion matrix untuk melihat seberapa akurat model yang sudah kita buat sebelumnya\n",
        "# Pada model ini, saya mendapatkan akurasi yang cukup baik yaitu berupa 0.90 dibandingkan dengan jawaban saya pada nomor 1"
      ],
      "execution_count": 17,
      "outputs": [
        {
          "output_type": "stream",
          "text": [
            "Accuracy of logistic regression :  0.9057971014492754\n",
            "Confusion Matrix \n",
            " [[62  2]\n",
            " [11 63]]\n"
          ],
          "name": "stdout"
        }
      ]
    }
  ]
}