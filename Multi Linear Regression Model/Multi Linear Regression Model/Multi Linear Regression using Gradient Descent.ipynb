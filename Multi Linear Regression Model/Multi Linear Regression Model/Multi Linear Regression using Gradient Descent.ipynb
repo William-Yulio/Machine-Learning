{
  "nbformat": 4,
  "nbformat_minor": 0,
  "metadata": {
    "colab": {
      "name": "Quiz ML 1ipynb",
      "provenance": []
    },
    "kernelspec": {
      "name": "python3",
      "display_name": "Python 3"
    },
    "language_info": {
      "name": "python"
    }
  },
  "cells": [
    {
      "cell_type": "markdown",
      "metadata": {
        "id": "nZmTu_Q4XjwG"
      },
      "source": [
        "## **Quiz ML No. 1**\n",
        "\n",
        "---\n",
        "\n",
        "### Multi Linear Regression using Gradient Descent\n",
        "\n",
        "Nama  : William Yulio\n",
        "\n",
        "NIM   : 2301869840\n",
        "\n",
        "Kelas : LD01"
      ]
    },
    {
      "cell_type": "markdown",
      "metadata": {
        "id": "KiYN4crdXaRF"
      },
      "source": [
        "### Import Library yang akan digunakan"
      ]
    },
    {
      "cell_type": "code",
      "metadata": {
        "id": "cGQN1Ln8gdWL"
      },
      "source": [
        "import numpy as np\n",
        "import pandas as pd\n",
        "from matplotlib import pyplot as plt\n",
        "from sklearn.model_selection import train_test_split\n",
        "from sklearn.preprocessing import StandardScaler\n",
        "from sklearn.metrics import mean_squared_error, r2_score\n",
        "%matplotlib inline"
      ],
      "execution_count": 1,
      "outputs": []
    },
    {
      "cell_type": "markdown",
      "metadata": {
        "id": "JtbvEYbDb0FS"
      },
      "source": [
        "### Membaca Data Input dari CSV"
      ]
    },
    {
      "cell_type": "code",
      "metadata": {
        "colab": {
          "base_uri": "https://localhost:8080/",
          "height": 206
        },
        "id": "qMvNNMPYLi0z",
        "outputId": "697b929b-b061-4b17-c7b8-0073cc9c5369"
      },
      "source": [
        "data = pd.read_csv('housing.csv',  delim_whitespace = True, names=['CRIM', 'ZN', 'INDUS', 'CHAS', 'NOX', 'RM', 'AGE', 'DIS', 'RAD', 'TAX', 'PTRATIO', 'B', 'LSTAT', 'MEDV'])\n",
        "data.head()\n",
        "\n",
        "# Karena pada dataset didalam CSV tergabung kedalam 1 cell\n",
        "# Maka harus kita pisahkan dengan menggunakan fungsi delim_whitespace \n",
        "# dan juga memberikan penamaan terhadap setiap kolom yang ada"
      ],
      "execution_count": 2,
      "outputs": [
        {
          "output_type": "execute_result",
          "data": {
            "text/html": [
              "<div>\n",
              "<style scoped>\n",
              "    .dataframe tbody tr th:only-of-type {\n",
              "        vertical-align: middle;\n",
              "    }\n",
              "\n",
              "    .dataframe tbody tr th {\n",
              "        vertical-align: top;\n",
              "    }\n",
              "\n",
              "    .dataframe thead th {\n",
              "        text-align: right;\n",
              "    }\n",
              "</style>\n",
              "<table border=\"1\" class=\"dataframe\">\n",
              "  <thead>\n",
              "    <tr style=\"text-align: right;\">\n",
              "      <th></th>\n",
              "      <th>CRIM</th>\n",
              "      <th>ZN</th>\n",
              "      <th>INDUS</th>\n",
              "      <th>CHAS</th>\n",
              "      <th>NOX</th>\n",
              "      <th>RM</th>\n",
              "      <th>AGE</th>\n",
              "      <th>DIS</th>\n",
              "      <th>RAD</th>\n",
              "      <th>TAX</th>\n",
              "      <th>PTRATIO</th>\n",
              "      <th>B</th>\n",
              "      <th>LSTAT</th>\n",
              "      <th>MEDV</th>\n",
              "    </tr>\n",
              "  </thead>\n",
              "  <tbody>\n",
              "    <tr>\n",
              "      <th>0</th>\n",
              "      <td>0.00632</td>\n",
              "      <td>18.0</td>\n",
              "      <td>2.31</td>\n",
              "      <td>0</td>\n",
              "      <td>0.538</td>\n",
              "      <td>6.575</td>\n",
              "      <td>65.2</td>\n",
              "      <td>4.0900</td>\n",
              "      <td>1</td>\n",
              "      <td>296.0</td>\n",
              "      <td>15.3</td>\n",
              "      <td>396.90</td>\n",
              "      <td>4.98</td>\n",
              "      <td>24.0</td>\n",
              "    </tr>\n",
              "    <tr>\n",
              "      <th>1</th>\n",
              "      <td>0.02731</td>\n",
              "      <td>0.0</td>\n",
              "      <td>7.07</td>\n",
              "      <td>0</td>\n",
              "      <td>0.469</td>\n",
              "      <td>6.421</td>\n",
              "      <td>78.9</td>\n",
              "      <td>4.9671</td>\n",
              "      <td>2</td>\n",
              "      <td>242.0</td>\n",
              "      <td>17.8</td>\n",
              "      <td>396.90</td>\n",
              "      <td>9.14</td>\n",
              "      <td>21.6</td>\n",
              "    </tr>\n",
              "    <tr>\n",
              "      <th>2</th>\n",
              "      <td>0.02729</td>\n",
              "      <td>0.0</td>\n",
              "      <td>7.07</td>\n",
              "      <td>0</td>\n",
              "      <td>0.469</td>\n",
              "      <td>7.185</td>\n",
              "      <td>61.1</td>\n",
              "      <td>4.9671</td>\n",
              "      <td>2</td>\n",
              "      <td>242.0</td>\n",
              "      <td>17.8</td>\n",
              "      <td>392.83</td>\n",
              "      <td>4.03</td>\n",
              "      <td>34.7</td>\n",
              "    </tr>\n",
              "    <tr>\n",
              "      <th>3</th>\n",
              "      <td>0.03237</td>\n",
              "      <td>0.0</td>\n",
              "      <td>2.18</td>\n",
              "      <td>0</td>\n",
              "      <td>0.458</td>\n",
              "      <td>6.998</td>\n",
              "      <td>45.8</td>\n",
              "      <td>6.0622</td>\n",
              "      <td>3</td>\n",
              "      <td>222.0</td>\n",
              "      <td>18.7</td>\n",
              "      <td>394.63</td>\n",
              "      <td>2.94</td>\n",
              "      <td>33.4</td>\n",
              "    </tr>\n",
              "    <tr>\n",
              "      <th>4</th>\n",
              "      <td>0.06905</td>\n",
              "      <td>0.0</td>\n",
              "      <td>2.18</td>\n",
              "      <td>0</td>\n",
              "      <td>0.458</td>\n",
              "      <td>7.147</td>\n",
              "      <td>54.2</td>\n",
              "      <td>6.0622</td>\n",
              "      <td>3</td>\n",
              "      <td>222.0</td>\n",
              "      <td>18.7</td>\n",
              "      <td>396.90</td>\n",
              "      <td>5.33</td>\n",
              "      <td>36.2</td>\n",
              "    </tr>\n",
              "  </tbody>\n",
              "</table>\n",
              "</div>"
            ],
            "text/plain": [
              "      CRIM    ZN  INDUS  CHAS    NOX  ...    TAX  PTRATIO       B  LSTAT  MEDV\n",
              "0  0.00632  18.0   2.31     0  0.538  ...  296.0     15.3  396.90   4.98  24.0\n",
              "1  0.02731   0.0   7.07     0  0.469  ...  242.0     17.8  396.90   9.14  21.6\n",
              "2  0.02729   0.0   7.07     0  0.469  ...  242.0     17.8  392.83   4.03  34.7\n",
              "3  0.03237   0.0   2.18     0  0.458  ...  222.0     18.7  394.63   2.94  33.4\n",
              "4  0.06905   0.0   2.18     0  0.458  ...  222.0     18.7  396.90   5.33  36.2\n",
              "\n",
              "[5 rows x 14 columns]"
            ]
          },
          "metadata": {
            "tags": []
          },
          "execution_count": 2
        }
      ]
    },
    {
      "cell_type": "markdown",
      "metadata": {
        "id": "FPFfMVM9eIyq"
      },
      "source": [
        "### Feature Engineering"
      ]
    },
    {
      "cell_type": "code",
      "metadata": {
        "colab": {
          "base_uri": "https://localhost:8080/"
        },
        "id": "rOLluLnmLi3g",
        "outputId": "9bec61b7-98c1-4414-ce96-4a0d4018aeb0"
      },
      "source": [
        "df_numeric = data.select_dtypes(include=[np.number])\n",
        "numeric_cols = df_numeric.columns.values\n",
        "print(numeric_cols)\n",
        "\n",
        "# Memasukkan feature kedalam df_numeric untuk dicek apakah termasuk kolom yang berformat np.number atau tidak\n",
        "# menggunakan variabel pembantu numeric_cols untuk menampung kolom-kolom yang sudah dicek sebelumnya"
      ],
      "execution_count": 3,
      "outputs": [
        {
          "output_type": "stream",
          "text": [
            "['CRIM' 'ZN' 'INDUS' 'CHAS' 'NOX' 'RM' 'AGE' 'DIS' 'RAD' 'TAX' 'PTRATIO'\n",
            " 'B' 'LSTAT' 'MEDV']\n"
          ],
          "name": "stdout"
        }
      ]
    },
    {
      "cell_type": "markdown",
      "metadata": {
        "id": "IAZrCQuQlPwJ"
      },
      "source": [
        "### Data Cleaning "
      ]
    },
    {
      "cell_type": "code",
      "metadata": {
        "colab": {
          "base_uri": "https://localhost:8080/"
        },
        "id": "PmLo1suqqaIf",
        "outputId": "2e6de055-01bb-4e64-ed79-6263f4ed65a4"
      },
      "source": [
        "for col in data.columns:\n",
        "    pct_missing = np.mean(data[col].isnull())\n",
        "    print('{} - {}%'.format(col, round(pct_missing*100)))\n",
        "# Melakukan check apakah terdapat missing value atau tidak\n",
        "# Dikarenakan tidak terdapat missing value maka kita bisa lanjut ketahap selanjutnya"
      ],
      "execution_count": 4,
      "outputs": [
        {
          "output_type": "stream",
          "text": [
            "CRIM - 0%\n",
            "ZN - 0%\n",
            "INDUS - 0%\n",
            "CHAS - 0%\n",
            "NOX - 0%\n",
            "RM - 0%\n",
            "AGE - 0%\n",
            "DIS - 0%\n",
            "RAD - 0%\n",
            "TAX - 0%\n",
            "PTRATIO - 0%\n",
            "B - 0%\n",
            "LSTAT - 0%\n",
            "MEDV - 0%\n"
          ],
          "name": "stdout"
        }
      ]
    },
    {
      "cell_type": "code",
      "metadata": {
        "id": "iqgyYPhiqaFh",
        "colab": {
          "base_uri": "https://localhost:8080/"
        },
        "outputId": "ac794ba3-25e3-423e-921d-4200d596c3f0"
      },
      "source": [
        "Correlation = data.corr()\n",
        "Correlation['MEDV'].abs().sort_values(ascending = False)\n",
        "# Selanjutnya kita akan melihat variabel mana yang memiliki korelasi tertinggi dengan variabel output\n",
        "# Kita akan melakukan proses seleksi variabel bebas mana yang akan dimasukkan kedalam model\n",
        "# Variabel bebas yang akan diambil merupakan variabel yang memiliki korelasi >= 0.35\n",
        "# Variabel yang dibawah 0.35 akan didrop dari tabel dataset"
      ],
      "execution_count": 5,
      "outputs": [
        {
          "output_type": "execute_result",
          "data": {
            "text/plain": [
              "MEDV       1.000000\n",
              "LSTAT      0.737663\n",
              "RM         0.695360\n",
              "PTRATIO    0.507787\n",
              "INDUS      0.483725\n",
              "TAX        0.468536\n",
              "NOX        0.427321\n",
              "CRIM       0.388305\n",
              "RAD        0.381626\n",
              "AGE        0.376955\n",
              "ZN         0.360445\n",
              "B          0.333461\n",
              "DIS        0.249929\n",
              "CHAS       0.175260\n",
              "Name: MEDV, dtype: float64"
            ]
          },
          "metadata": {
            "tags": []
          },
          "execution_count": 5
        }
      ]
    },
    {
      "cell_type": "markdown",
      "metadata": {
        "id": "bq2iD7VwlGgT"
      },
      "source": [
        "### Melakukan pemetaan terhadap data input dan output kedalam variabel x dan y "
      ]
    },
    {
      "cell_type": "code",
      "metadata": {
        "id": "CQAXSiaDqZrD",
        "colab": {
          "base_uri": "https://localhost:8080/",
          "height": 206
        },
        "outputId": "6a5f8d2c-932e-4fe1-aab3-5997a48d717e"
      },
      "source": [
        "X = data.iloc[:, :-1]    # independent varible\n",
        "y = data.iloc[:, -1]     # dependent variable\n",
        "\n",
        "X.head()"
      ],
      "execution_count": 6,
      "outputs": [
        {
          "output_type": "execute_result",
          "data": {
            "text/html": [
              "<div>\n",
              "<style scoped>\n",
              "    .dataframe tbody tr th:only-of-type {\n",
              "        vertical-align: middle;\n",
              "    }\n",
              "\n",
              "    .dataframe tbody tr th {\n",
              "        vertical-align: top;\n",
              "    }\n",
              "\n",
              "    .dataframe thead th {\n",
              "        text-align: right;\n",
              "    }\n",
              "</style>\n",
              "<table border=\"1\" class=\"dataframe\">\n",
              "  <thead>\n",
              "    <tr style=\"text-align: right;\">\n",
              "      <th></th>\n",
              "      <th>CRIM</th>\n",
              "      <th>ZN</th>\n",
              "      <th>INDUS</th>\n",
              "      <th>CHAS</th>\n",
              "      <th>NOX</th>\n",
              "      <th>RM</th>\n",
              "      <th>AGE</th>\n",
              "      <th>DIS</th>\n",
              "      <th>RAD</th>\n",
              "      <th>TAX</th>\n",
              "      <th>PTRATIO</th>\n",
              "      <th>B</th>\n",
              "      <th>LSTAT</th>\n",
              "    </tr>\n",
              "  </thead>\n",
              "  <tbody>\n",
              "    <tr>\n",
              "      <th>0</th>\n",
              "      <td>0.00632</td>\n",
              "      <td>18.0</td>\n",
              "      <td>2.31</td>\n",
              "      <td>0</td>\n",
              "      <td>0.538</td>\n",
              "      <td>6.575</td>\n",
              "      <td>65.2</td>\n",
              "      <td>4.0900</td>\n",
              "      <td>1</td>\n",
              "      <td>296.0</td>\n",
              "      <td>15.3</td>\n",
              "      <td>396.90</td>\n",
              "      <td>4.98</td>\n",
              "    </tr>\n",
              "    <tr>\n",
              "      <th>1</th>\n",
              "      <td>0.02731</td>\n",
              "      <td>0.0</td>\n",
              "      <td>7.07</td>\n",
              "      <td>0</td>\n",
              "      <td>0.469</td>\n",
              "      <td>6.421</td>\n",
              "      <td>78.9</td>\n",
              "      <td>4.9671</td>\n",
              "      <td>2</td>\n",
              "      <td>242.0</td>\n",
              "      <td>17.8</td>\n",
              "      <td>396.90</td>\n",
              "      <td>9.14</td>\n",
              "    </tr>\n",
              "    <tr>\n",
              "      <th>2</th>\n",
              "      <td>0.02729</td>\n",
              "      <td>0.0</td>\n",
              "      <td>7.07</td>\n",
              "      <td>0</td>\n",
              "      <td>0.469</td>\n",
              "      <td>7.185</td>\n",
              "      <td>61.1</td>\n",
              "      <td>4.9671</td>\n",
              "      <td>2</td>\n",
              "      <td>242.0</td>\n",
              "      <td>17.8</td>\n",
              "      <td>392.83</td>\n",
              "      <td>4.03</td>\n",
              "    </tr>\n",
              "    <tr>\n",
              "      <th>3</th>\n",
              "      <td>0.03237</td>\n",
              "      <td>0.0</td>\n",
              "      <td>2.18</td>\n",
              "      <td>0</td>\n",
              "      <td>0.458</td>\n",
              "      <td>6.998</td>\n",
              "      <td>45.8</td>\n",
              "      <td>6.0622</td>\n",
              "      <td>3</td>\n",
              "      <td>222.0</td>\n",
              "      <td>18.7</td>\n",
              "      <td>394.63</td>\n",
              "      <td>2.94</td>\n",
              "    </tr>\n",
              "    <tr>\n",
              "      <th>4</th>\n",
              "      <td>0.06905</td>\n",
              "      <td>0.0</td>\n",
              "      <td>2.18</td>\n",
              "      <td>0</td>\n",
              "      <td>0.458</td>\n",
              "      <td>7.147</td>\n",
              "      <td>54.2</td>\n",
              "      <td>6.0622</td>\n",
              "      <td>3</td>\n",
              "      <td>222.0</td>\n",
              "      <td>18.7</td>\n",
              "      <td>396.90</td>\n",
              "      <td>5.33</td>\n",
              "    </tr>\n",
              "  </tbody>\n",
              "</table>\n",
              "</div>"
            ],
            "text/plain": [
              "      CRIM    ZN  INDUS  CHAS    NOX  ...  RAD    TAX  PTRATIO       B  LSTAT\n",
              "0  0.00632  18.0   2.31     0  0.538  ...    1  296.0     15.3  396.90   4.98\n",
              "1  0.02731   0.0   7.07     0  0.469  ...    2  242.0     17.8  396.90   9.14\n",
              "2  0.02729   0.0   7.07     0  0.469  ...    2  242.0     17.8  392.83   4.03\n",
              "3  0.03237   0.0   2.18     0  0.458  ...    3  222.0     18.7  394.63   2.94\n",
              "4  0.06905   0.0   2.18     0  0.458  ...    3  222.0     18.7  396.90   5.33\n",
              "\n",
              "[5 rows x 13 columns]"
            ]
          },
          "metadata": {
            "tags": []
          },
          "execution_count": 6
        }
      ]
    },
    {
      "cell_type": "code",
      "metadata": {
        "colab": {
          "base_uri": "https://localhost:8080/",
          "height": 206
        },
        "id": "zbImhjSanU62",
        "outputId": "b3406fd0-fa26-4533-c177-4214ed5b360d"
      },
      "source": [
        "X = X.drop(['CHAS','DIS','B'], axis=1)\n",
        "X.head()\n",
        "\n",
        "# Kemudian variabel yang sebelumnya sudah kita lihat korelasinya dengan variabel independent\n",
        "# akan didrop, sehingga kita hanya akan menggunakan variabel dengan korelasi yang tinggi saja"
      ],
      "execution_count": 7,
      "outputs": [
        {
          "output_type": "execute_result",
          "data": {
            "text/html": [
              "<div>\n",
              "<style scoped>\n",
              "    .dataframe tbody tr th:only-of-type {\n",
              "        vertical-align: middle;\n",
              "    }\n",
              "\n",
              "    .dataframe tbody tr th {\n",
              "        vertical-align: top;\n",
              "    }\n",
              "\n",
              "    .dataframe thead th {\n",
              "        text-align: right;\n",
              "    }\n",
              "</style>\n",
              "<table border=\"1\" class=\"dataframe\">\n",
              "  <thead>\n",
              "    <tr style=\"text-align: right;\">\n",
              "      <th></th>\n",
              "      <th>CRIM</th>\n",
              "      <th>ZN</th>\n",
              "      <th>INDUS</th>\n",
              "      <th>NOX</th>\n",
              "      <th>RM</th>\n",
              "      <th>AGE</th>\n",
              "      <th>RAD</th>\n",
              "      <th>TAX</th>\n",
              "      <th>PTRATIO</th>\n",
              "      <th>LSTAT</th>\n",
              "    </tr>\n",
              "  </thead>\n",
              "  <tbody>\n",
              "    <tr>\n",
              "      <th>0</th>\n",
              "      <td>0.00632</td>\n",
              "      <td>18.0</td>\n",
              "      <td>2.31</td>\n",
              "      <td>0.538</td>\n",
              "      <td>6.575</td>\n",
              "      <td>65.2</td>\n",
              "      <td>1</td>\n",
              "      <td>296.0</td>\n",
              "      <td>15.3</td>\n",
              "      <td>4.98</td>\n",
              "    </tr>\n",
              "    <tr>\n",
              "      <th>1</th>\n",
              "      <td>0.02731</td>\n",
              "      <td>0.0</td>\n",
              "      <td>7.07</td>\n",
              "      <td>0.469</td>\n",
              "      <td>6.421</td>\n",
              "      <td>78.9</td>\n",
              "      <td>2</td>\n",
              "      <td>242.0</td>\n",
              "      <td>17.8</td>\n",
              "      <td>9.14</td>\n",
              "    </tr>\n",
              "    <tr>\n",
              "      <th>2</th>\n",
              "      <td>0.02729</td>\n",
              "      <td>0.0</td>\n",
              "      <td>7.07</td>\n",
              "      <td>0.469</td>\n",
              "      <td>7.185</td>\n",
              "      <td>61.1</td>\n",
              "      <td>2</td>\n",
              "      <td>242.0</td>\n",
              "      <td>17.8</td>\n",
              "      <td>4.03</td>\n",
              "    </tr>\n",
              "    <tr>\n",
              "      <th>3</th>\n",
              "      <td>0.03237</td>\n",
              "      <td>0.0</td>\n",
              "      <td>2.18</td>\n",
              "      <td>0.458</td>\n",
              "      <td>6.998</td>\n",
              "      <td>45.8</td>\n",
              "      <td>3</td>\n",
              "      <td>222.0</td>\n",
              "      <td>18.7</td>\n",
              "      <td>2.94</td>\n",
              "    </tr>\n",
              "    <tr>\n",
              "      <th>4</th>\n",
              "      <td>0.06905</td>\n",
              "      <td>0.0</td>\n",
              "      <td>2.18</td>\n",
              "      <td>0.458</td>\n",
              "      <td>7.147</td>\n",
              "      <td>54.2</td>\n",
              "      <td>3</td>\n",
              "      <td>222.0</td>\n",
              "      <td>18.7</td>\n",
              "      <td>5.33</td>\n",
              "    </tr>\n",
              "  </tbody>\n",
              "</table>\n",
              "</div>"
            ],
            "text/plain": [
              "      CRIM    ZN  INDUS    NOX     RM   AGE  RAD    TAX  PTRATIO  LSTAT\n",
              "0  0.00632  18.0   2.31  0.538  6.575  65.2    1  296.0     15.3   4.98\n",
              "1  0.02731   0.0   7.07  0.469  6.421  78.9    2  242.0     17.8   9.14\n",
              "2  0.02729   0.0   7.07  0.469  7.185  61.1    2  242.0     17.8   4.03\n",
              "3  0.03237   0.0   2.18  0.458  6.998  45.8    3  222.0     18.7   2.94\n",
              "4  0.06905   0.0   2.18  0.458  7.147  54.2    3  222.0     18.7   5.33"
            ]
          },
          "metadata": {
            "tags": []
          },
          "execution_count": 7
        }
      ]
    },
    {
      "cell_type": "markdown",
      "metadata": {
        "id": "z9SA213GmlQy"
      },
      "source": [
        "### Melakukan Standard Scaler terhadap dataset"
      ]
    },
    {
      "cell_type": "code",
      "metadata": {
        "colab": {
          "base_uri": "https://localhost:8080/"
        },
        "id": "Ay9T3gFknU0e",
        "outputId": "559646cb-acf7-4869-9eaf-bbc66ea674b8"
      },
      "source": [
        "sc = StandardScaler()\n",
        "X = sc.fit_transform(X)\n",
        "print (X[:10])\n",
        "\n",
        "# Pada tahap ini kita akan berfokus untuk melakukan preprocessing sehingga dataset menjadi lebih mudah untuk diolah\n",
        "# menggunakan fungsi StandardSCaler() "
      ],
      "execution_count": 8,
      "outputs": [
        {
          "output_type": "stream",
          "text": [
            "[[-0.41978194  0.28482986 -1.2879095  -0.14421743  0.41367189 -0.12001342\n",
            "  -0.98284286 -0.66660821 -1.45900038 -1.0755623 ]\n",
            " [-0.41733926 -0.48772236 -0.59338101 -0.74026221  0.19427445  0.36716642\n",
            "  -0.8678825  -0.98732948 -0.30309415 -0.49243937]\n",
            " [-0.41734159 -0.48772236 -0.59338101 -0.74026221  1.28271368 -0.26581176\n",
            "  -0.8678825  -0.98732948 -0.30309415 -1.2087274 ]\n",
            " [-0.41675042 -0.48772236 -1.30687771 -0.83528384  1.01630251 -0.80988851\n",
            "  -0.75292215 -1.10611514  0.1130321  -1.36151682]\n",
            " [-0.41248185 -0.48772236 -1.30687771 -0.83528384  1.22857665 -0.51117971\n",
            "  -0.75292215 -1.10611514  0.1130321  -1.02650148]\n",
            " [-0.41704368 -0.48772236 -1.30687771 -0.83528384  0.20709638 -0.35115713\n",
            "  -0.75292215 -1.10611514  0.1130321  -1.04332233]\n",
            " [-0.41024282  0.04877224 -0.47665354 -0.26515405 -0.38841095 -0.07022862\n",
            "  -0.52300145 -0.57751897 -1.50523663 -0.03126762]\n",
            " [-0.40369567  0.04877224 -0.47665354 -0.26515405 -0.16046556  0.97880825\n",
            "  -0.52300145 -0.57751897 -1.50523663  0.91070021]\n",
            " [-0.39593474  0.04877224 -0.47665354 -0.26515405 -0.9312059   1.11749449\n",
            "  -0.52300145 -0.57751897 -1.50523663  2.42177359]\n",
            " [-0.40072931  0.04877224 -0.47665354 -0.26515405 -0.39980821  0.61609042\n",
            "  -0.52300145 -0.57751897 -1.50523663  0.62334395]]\n"
          ],
          "name": "stdout"
        }
      ]
    },
    {
      "cell_type": "markdown",
      "metadata": {
        "id": "A24at_KinwIN"
      },
      "source": [
        "### Melakukan Split Dataset"
      ]
    },
    {
      "cell_type": "code",
      "metadata": {
        "id": "b9Q9KrYwnUsP"
      },
      "source": [
        "X_train, X_test, y_train, y_test = train_test_split(X, y, test_size=0.2, random_state=0)\n",
        "# Kita akan melakukan pemisahan dataset utuh kedalam variabel untuk melakukan testing dan juga training\n",
        "# Dimana data yang akan digunakan untuk test sebesar 20% dari total data utuhnya dan 80% lainnya dimasukkan kedalam variabel training"
      ],
      "execution_count": 9,
      "outputs": []
    },
    {
      "cell_type": "code",
      "metadata": {
        "id": "ltjKfNi8zOlY"
      },
      "source": [
        "X_train = np.c_[np.ones(len(X_train),dtype='int64'),X_train]                        \n",
        "X_test = np.c_[np.ones(len(X_test),dtype='int64'),X_test]\n",
        "# Kemudian data training dan test akan di sesuaikan shapenya berdasarkan jumlah dari data yang ada pada setiap variabelnya\n",
        "# Selanjutnya dijadikan stack array 2D"
      ],
      "execution_count": 10,
      "outputs": []
    },
    {
      "cell_type": "markdown",
      "metadata": {
        "id": "edup88UsPsT6"
      },
      "source": [
        "### Rumus untuk menghitung MLR menggunakan Gradient Descent"
      ]
    },
    {
      "cell_type": "code",
      "metadata": {
        "id": "EnVyudRazOjD"
      },
      "source": [
        "def cost_function(X, Y, B):\n",
        "    m = len(Y)\n",
        "    J = np.sum((X.dot(B) - Y)**2)/(2 * m)\n",
        "    return J\n",
        "# Rumus Cost function untuk MLR "
      ],
      "execution_count": 11,
      "outputs": []
    },
    {
      "cell_type": "code",
      "metadata": {
        "id": "dYdUkbYRzOgd"
      },
      "source": [
        "def batch_gradient_descent(X, Y, B, alpha, iterations):\n",
        "    cost_history = [0] * iterations\n",
        "    m = len(Y)\n",
        " \n",
        "    for iteration in range(iterations):\n",
        "     # Hypothesis Values\n",
        "         h = X.dot(B)\n",
        "     # Difference b/w Hypothesis and Actual Y\n",
        "         loss = h - Y\n",
        "     # Gradient Calculation\n",
        "         gradient = X.T.dot(loss) / m\n",
        "     # Changing Values of B using Gradient\n",
        "         B = B - alpha * gradient\n",
        "     # New Cost Value\n",
        "         cost = cost_function(X, Y, B)\n",
        "         cost_history[iteration] = cost\n",
        " \n",
        "    return B, cost_history"
      ],
      "execution_count": 12,
      "outputs": []
    },
    {
      "cell_type": "markdown",
      "metadata": {
        "id": "GVJ2VULfQGHi"
      },
      "source": [
        "### Kalkulasi Predict Value"
      ]
    },
    {
      "cell_type": "code",
      "metadata": {
        "id": "3VNhrBl6zOdx"
      },
      "source": [
        "B = np.zeros(X_train.shape[1])\n",
        "alpha = 0.01\n",
        "iter_ = 3000\n",
        "newB, cost_history = batch_gradient_descent(X_train, y_train, B, alpha, iter_)\n",
        "\n",
        "# Pada perhitungan ini saya menggunakan Epoch/iter sebesar 3000 dan learning rate/alpha sebesar 0.01"
      ],
      "execution_count": 17,
      "outputs": []
    },
    {
      "cell_type": "code",
      "metadata": {
        "colab": {
          "base_uri": "https://localhost:8080/",
          "height": 532
        },
        "id": "LB39d9UgzOap",
        "outputId": "585bad31-bc65-4df2-8fa4-df020d3ade59"
      },
      "source": [
        "fig, ax = plt.subplots(figsize=(12,8))\n",
        "ax.plot(np.arange(iter_), cost_history, 'r')\n",
        "ax.set_xlabel('Iterations')\n",
        "ax.set_ylabel('Cost')\n",
        "ax.set_title('Error vs. Training Epoch')\n",
        "\n",
        "# Kemudian saya melakukan plotting untuk melihat hasil perbandingan antara training dengan cost function\n",
        "# Dan mendapatkan hasil yang cukup oke, walaupun mungkin untuk mendapatkan data yang lebih baik\n",
        "# Kita bisa meningkatkan Epoch atau mengatur Learning rate yang lebih bagus"
      ],
      "execution_count": 18,
      "outputs": [
        {
          "output_type": "execute_result",
          "data": {
            "text/plain": [
              "Text(0.5, 1.0, 'Error vs. Training Epoch')"
            ]
          },
          "metadata": {
            "tags": []
          },
          "execution_count": 18
        },
        {
          "output_type": "display_data",
          "data": {
            "image/png": "[encoded data removed]",
            "text/plain": [
              "<Figure size 864x576 with 1 Axes>"
            ]
          },
          "metadata": {
            "tags": [],
            "needs_background": "light"
          }
        }
      ]
    },
    {
      "cell_type": "code",
      "metadata": {
        "colab": {
          "base_uri": "https://localhost:8080/"
        },
        "id": "lkb9onPczplM",
        "outputId": "826b3fc4-17bf-4579-acef-fcb1139f1570"
      },
      "source": [
        "y_pred = X_test.dot(newB)\n",
        "print (y_pred[:-1])\n",
        "print('\\n')\n",
        "print (y_test[:-1])\n",
        "\n",
        "# Berikut adalah hasil dari predict value dan hasil dari testing"
      ],
      "execution_count": 19,
      "outputs": [
        {
          "output_type": "stream",
          "text": [
            "[24.89828502 22.35297262 28.19703777 11.04923955 22.43369972 19.6138132\n",
            " 19.52828496 21.81031137 16.23054424 21.4023842   8.62790555 17.73944983\n",
            " 17.60878254  3.67206237 39.38786824 33.37108505 22.01724559 37.66970845\n",
            " 28.95098039 21.8923217  25.07140552 25.90151978 18.39139255 27.79876315\n",
            " 22.34264603 10.1284505  18.20922865 20.77858225 35.57257509 20.11334126\n",
            " 17.61478969 18.03890224 24.54020836 25.40514565 27.90556701 16.77929464\n",
            " 10.0248753  20.73736466 18.63533262 14.92328722 27.20600672 20.63872406\n",
            " 23.61367146 14.85905939 26.27003525 26.95256957 23.05546018 22.88006165\n",
            " 10.091047   23.23625705 22.43128423 14.5758233  24.01447924 34.4437105\n",
            " 14.60720268 22.59636078 21.32662153 19.94909571 16.37902836 20.29234573\n",
            " 22.09886842 21.73678826 32.32206835 29.27076127 16.28097279 30.71966929\n",
            " 19.3268148  23.67689501 19.28551232 21.41012995 23.43185684 24.22826837\n",
            " 29.21776911 29.16364008 26.04849453  2.98794009 37.61876874 24.03584217\n",
            " 25.90407652 18.18707035 29.56247139 19.02306262 17.91045949 37.85563494\n",
            " 39.61368987 24.4653674  23.64176379 16.4267456  28.73472603 15.94088905\n",
            " 15.43066084 15.33050479 27.20196005 33.04551125 21.29536305 23.2731654\n",
            " -2.80645717 27.65669075 18.29683279 20.29167252 24.51210698]\n",
            "\n",
            "\n",
            "329    22.6\n",
            "371    50.0\n",
            "219    23.0\n",
            "403     8.3\n",
            "78     21.2\n",
            "       ... \n",
            "374    13.8\n",
            "56     24.7\n",
            "455    14.1\n",
            "60     18.7\n",
            "213    28.1\n",
            "Name: MEDV, Length: 101, dtype: float64\n"
          ],
          "name": "stdout"
        }
      ]
    },
    {
      "cell_type": "code",
      "metadata": {
        "colab": {
          "base_uri": "https://localhost:8080/"
        },
        "id": "K2nSdeoszpcM",
        "outputId": "7aab904d-b6ba-48e8-bc80-a65d93c348a7"
      },
      "source": [
        "total_data = len(data)\n",
        "\n",
        "MSE = mean_squared_error(y_test, y_pred)\n",
        "RMSE = mean_squared_error(y_test, y_pred, squared=False)\n",
        "score = r2_score(y_test, y_pred)\n",
        "r2adj = 1 - (1 - score)*((total_data - 1) / (total_data - 4 - 1))\n",
        "\n",
        "print (\"MSE :\", MSE)\n",
        "print (\"RMSE :\", RMSE)\n",
        "print (\"R2 :\", score)\n",
        "print (\"Adjusted R-Squared :\", r2adj)\n",
        "\n",
        "# Pada tahap terakhir kita akan menghitung akurasi dan error dari perhitungan sebelumnya\n",
        "# Dan didaptkan akurasi sebesar 0.51, hasil ini menurut saya cukup oke.\n",
        "# Hal ini mungkin terjadi karena ada beberapa outlier yang belum di bersihkan dari data\n",
        "# Ataupun terdapat variabel bebas yang tidak sesuai korelasinya dengan variabel output"
      ],
      "execution_count": 20,
      "outputs": [
        {
          "output_type": "stream",
          "text": [
            "MSE : 39.547781964277966\n",
            "RMSE : 6.288702725068022\n",
            "R2 : 0.5143246951569952\n",
            "Adjusted R-Squared : 0.51044704801254\n"
          ],
          "name": "stdout"
        }
      ]
    }
  ]
}